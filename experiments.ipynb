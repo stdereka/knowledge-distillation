{
 "cells": [
  {
   "cell_type": "code",
   "execution_count": 1,
   "metadata": {
    "colab": {
     "base_uri": "https://localhost:8080/",
     "height": 306
    },
    "colab_type": "code",
    "id": "mmXP4lUSgWCe",
    "outputId": "c43c6644-0d83-4d00-ab8b-cd801ee2e37c"
   },
   "outputs": [
    {
     "name": "stdout",
     "output_type": "stream",
     "text": [
      "Cloning into 'knowledge-distillation'...\n",
      "remote: Enumerating objects: 32, done.\u001b[K\n",
      "remote: Counting objects: 100% (32/32), done.\u001b[K\n",
      "remote: Compressing objects: 100% (23/23), done.\u001b[K\n",
      "remote: Total 32 (delta 8), reused 26 (delta 6), pack-reused 0\u001b[K\n",
      "Unpacking objects: 100% (32/32), done.\n",
      "--2020-09-17 20:43:27--  https://s3.amazonaws.com/fast-ai-imageclas/imagewoof2-320.tgz\n",
      "Resolving s3.amazonaws.com (s3.amazonaws.com)... 52.217.48.238\n",
      "Connecting to s3.amazonaws.com (s3.amazonaws.com)|52.217.48.238|:443... connected.\n",
      "HTTP request sent, awaiting response... 200 OK\n",
      "Length: 328288506 (313M) [application/x-tar]\n",
      "Saving to: ‘imagewoof2-320.tgz’\n",
      "\n",
      "imagewoof2-320.tgz  100%[===================>] 313.08M  77.0MB/s    in 4.1s    \n",
      "\n",
      "2020-09-17 20:43:31 (77.1 MB/s) - ‘imagewoof2-320.tgz’ saved [328288506/328288506]\n",
      "\n"
     ]
    }
   ],
   "source": [
    "! git clone https://github.com/stdereka/knowledge-distillation\n",
    "! wget https://s3.amazonaws.com/fast-ai-imageclas/imagewoof2-320.tgz\n",
    "! tar zxf imagewoof2-320.tgz"
   ]
  },
  {
   "cell_type": "code",
   "execution_count": 2,
   "metadata": {
    "colab": {},
    "colab_type": "code",
    "id": "OX3TNKjJgUkT"
   },
   "outputs": [],
   "source": [
    "import sys\n",
    "sys.path.insert(1, \"/content/knowledge-distillation\")"
   ]
  },
  {
   "cell_type": "code",
   "execution_count": 10,
   "metadata": {
    "colab": {},
    "colab_type": "code",
    "id": "B-hIY1iBgTHs"
   },
   "outputs": [],
   "source": [
    "import torch\n",
    "import random\n",
    "import numpy as np\n",
    "from pathlib import Path\n",
    "from sklearn.preprocessing import LabelEncoder\n",
    "from sklearn.model_selection import StratifiedKFold\n",
    "from sklearn.metrics import accuracy_score\n",
    "from torch.utils.data import DataLoader"
   ]
  },
  {
   "cell_type": "code",
   "execution_count": 4,
   "metadata": {
    "colab": {
     "base_uri": "https://localhost:8080/",
     "height": 51
    },
    "colab_type": "code",
    "id": "lzFhGyjNgTHx",
    "outputId": "6db7dfd9-8987-41e5-fd89-3b607108aefc"
   },
   "outputs": [
    {
     "name": "stdout",
     "output_type": "stream",
     "text": [
      "Training on GPU\n"
     ]
    },
    {
     "data": {
      "text/plain": [
       "LabelEncoder()"
      ]
     },
     "execution_count": 4,
     "metadata": {
      "tags": []
     },
     "output_type": "execute_result"
    }
   ],
   "source": [
    "def seed_everything(seed):\n",
    "    random.seed(seed)\n",
    "    np.random.seed(seed)\n",
    "    torch.manual_seed(seed)\n",
    "    torch.cuda.manual_seed(seed)\n",
    "    torch.backends.cudnn.deterministic = True\n",
    "\n",
    "train_on_gpu = torch.cuda.is_available()\n",
    "if not train_on_gpu:\n",
    "    print('Training on CPU')\n",
    "    DEVICE = torch.device(\"cpu\")\n",
    "else:\n",
    "    print('Training on GPU')\n",
    "    DEVICE = torch.device(\"cuda\")\n",
    "\n",
    "SEED = 666\n",
    "seed_everything(SEED)\n",
    "\n",
    "TRAIN_DIR = Path('./imagewoof2-320/train')\n",
    "TEST_DIR = Path('./imagewoof2-320/val')\n",
    "\n",
    "train_val_files = sorted(list(TRAIN_DIR.rglob('*.JPEG')))\n",
    "test_files = sorted(list(TEST_DIR.rglob('*.JPEG')))\n",
    "\n",
    "train_val_labels = [path.parent.name for path in train_val_files]\n",
    "LABEL_ENCODER = LabelEncoder()\n",
    "LABEL_ENCODER.fit(train_val_labels)"
   ]
  },
  {
   "cell_type": "code",
   "execution_count": 5,
   "metadata": {
    "colab": {},
    "colab_type": "code",
    "id": "hCIW5zCkgTH2"
   },
   "outputs": [],
   "source": [
    "from datasets import Imagewoof\n",
    "from models import resnet18"
   ]
  },
  {
   "cell_type": "code",
   "execution_count": 6,
   "metadata": {
    "colab": {},
    "colab_type": "code",
    "id": "b4R7KJ53gTH5"
   },
   "outputs": [],
   "source": [
    "train_dataset = Imagewoof(train_val_files, LABEL_ENCODER)\n",
    "test_dataset = Imagewoof(test_files, LABEL_ENCODER)"
   ]
  },
  {
   "cell_type": "code",
   "execution_count": 7,
   "metadata": {
    "colab": {
     "base_uri": "https://localhost:8080/",
     "height": 83,
     "referenced_widgets": [
      "c3192d53e4cf4bada9465dc58a5343f9",
      "56df267d12204e6fa04178c177e081d3",
      "b8c71c3ae75b49a4a6ccef4df75b152d",
      "6a56f456b8524543947ba9e8689aa9ea",
      "bedba384510c4a9e9eda880048886015",
      "e49e7a04e9c546e487d2dd894e450ee7",
      "276a31b0a386483a9285d6f910780f81",
      "17bd47b308ea43a297da4fbdbee29875"
     ]
    },
    "colab_type": "code",
    "id": "uDRVIcU_gTH9",
    "outputId": "669bbc05-878a-4ccb-e5e8-3fd99e4218bb"
   },
   "outputs": [
    {
     "name": "stderr",
     "output_type": "stream",
     "text": [
      "Downloading: \"https://download.pytorch.org/models/resnet18-5c106cde.pth\" to /root/.cache/torch/hub/checkpoints/resnet18-5c106cde.pth\n"
     ]
    },
    {
     "data": {
      "application/vnd.jupyter.widget-view+json": {
       "model_id": "c3192d53e4cf4bada9465dc58a5343f9",
       "version_major": 2,
       "version_minor": 0
      },
      "text/plain": [
       "HBox(children=(FloatProgress(value=0.0, max=46827520.0), HTML(value='')))"
      ]
     },
     "metadata": {
      "tags": []
     },
     "output_type": "display_data"
    },
    {
     "name": "stdout",
     "output_type": "stream",
     "text": [
      "\n"
     ]
    }
   ],
   "source": [
    "resnet = resnet18(10, DEVICE)"
   ]
  },
  {
   "cell_type": "code",
   "execution_count": 8,
   "metadata": {
    "colab": {
     "base_uri": "https://localhost:8080/",
     "height": 289
    },
    "colab_type": "code",
    "id": "MQCdWacmgTIB",
    "outputId": "15e382d6-77b1-428f-b23b-e6484c8e365c"
   },
   "outputs": [
    {
     "name": "stderr",
     "output_type": "stream",
     "text": [
      "epoch:   7%|▋         | 1/15 [01:00<14:04, 60.30s/it]"
     ]
    },
    {
     "name": "stdout",
     "output_type": "stream",
     "text": [
      "train_loss: 3.5795, val_loss: 2.3024, train_acc: 0.1169, val_acc: 0.1036\n"
     ]
    },
    {
     "name": "stderr",
     "output_type": "stream",
     "text": [
      "epoch:  13%|█▎        | 2/15 [02:00<13:03, 60.25s/it]"
     ]
    },
    {
     "name": "stdout",
     "output_type": "stream",
     "text": [
      "train_loss: 2.1240, val_loss: 1.5425, train_acc: 0.2062, val_acc: 0.3535\n"
     ]
    },
    {
     "name": "stderr",
     "output_type": "stream",
     "text": [
      "epoch:  20%|██        | 3/15 [03:00<12:01, 60.12s/it]"
     ]
    },
    {
     "name": "stdout",
     "output_type": "stream",
     "text": [
      "train_loss: 0.8611, val_loss: 0.4832, train_acc: 0.6982, val_acc: 0.8381\n"
     ]
    },
    {
     "name": "stderr",
     "output_type": "stream",
     "text": [
      "epoch:  27%|██▋       | 4/15 [04:00<11:01, 60.17s/it]"
     ]
    },
    {
     "name": "stdout",
     "output_type": "stream",
     "text": [
      "train_loss: 0.3601, val_loss: 0.3561, train_acc: 0.8791, val_acc: 0.8811\n"
     ]
    },
    {
     "name": "stderr",
     "output_type": "stream",
     "text": [
      "epoch:  33%|███▎      | 5/15 [05:00<10:00, 60.06s/it]"
     ]
    },
    {
     "name": "stdout",
     "output_type": "stream",
     "text": [
      "train_loss: 0.2642, val_loss: 0.2882, train_acc: 0.9128, val_acc: 0.9096\n"
     ]
    },
    {
     "name": "stderr",
     "output_type": "stream",
     "text": [
      "epoch:  40%|████      | 6/15 [06:00<09:00, 60.06s/it]"
     ]
    },
    {
     "name": "stdout",
     "output_type": "stream",
     "text": [
      "train_loss: 0.2216, val_loss: 0.3420, train_acc: 0.9290, val_acc: 0.8939\n"
     ]
    },
    {
     "name": "stderr",
     "output_type": "stream",
     "text": [
      "epoch:  47%|████▋     | 7/15 [07:00<08:00, 60.04s/it]"
     ]
    },
    {
     "name": "stdout",
     "output_type": "stream",
     "text": [
      "train_loss: 0.1987, val_loss: 0.2658, train_acc: 0.9368, val_acc: 0.9135\n"
     ]
    },
    {
     "name": "stderr",
     "output_type": "stream",
     "text": [
      "epoch:  53%|█████▎    | 8/15 [07:59<06:59, 59.86s/it]"
     ]
    },
    {
     "name": "stdout",
     "output_type": "stream",
     "text": [
      "train_loss: 0.1780, val_loss: 0.3024, train_acc: 0.9436, val_acc: 0.9081\n"
     ]
    },
    {
     "name": "stderr",
     "output_type": "stream",
     "text": [
      "epoch:  60%|██████    | 9/15 [08:59<05:58, 59.75s/it]"
     ]
    },
    {
     "name": "stdout",
     "output_type": "stream",
     "text": [
      "train_loss: 0.1616, val_loss: 0.2652, train_acc: 0.9483, val_acc: 0.9208\n"
     ]
    },
    {
     "name": "stderr",
     "output_type": "stream",
     "text": [
      "epoch:  67%|██████▋   | 10/15 [09:58<04:58, 59.69s/it]"
     ]
    },
    {
     "name": "stdout",
     "output_type": "stream",
     "text": [
      "train_loss: 0.1498, val_loss: 0.3792, train_acc: 0.9483, val_acc: 0.8880\n"
     ]
    },
    {
     "name": "stderr",
     "output_type": "stream",
     "text": [
      "epoch:  73%|███████▎  | 11/15 [10:58<03:58, 59.62s/it]"
     ]
    },
    {
     "name": "stdout",
     "output_type": "stream",
     "text": [
      "train_loss: 0.1478, val_loss: 0.2926, train_acc: 0.9525, val_acc: 0.9109\n"
     ]
    },
    {
     "name": "stderr",
     "output_type": "stream",
     "text": [
      "epoch:  80%|████████  | 12/15 [11:59<03:00, 60.01s/it]"
     ]
    },
    {
     "name": "stdout",
     "output_type": "stream",
     "text": [
      "train_loss: 0.1184, val_loss: 0.2823, train_acc: 0.9641, val_acc: 0.9122\n"
     ]
    },
    {
     "name": "stderr",
     "output_type": "stream",
     "text": [
      "epoch:  87%|████████▋ | 13/15 [12:58<01:59, 59.85s/it]"
     ]
    },
    {
     "name": "stdout",
     "output_type": "stream",
     "text": [
      "train_loss: 0.1050, val_loss: 0.3462, train_acc: 0.9672, val_acc: 0.9023\n"
     ]
    },
    {
     "name": "stderr",
     "output_type": "stream",
     "text": [
      "epoch:  93%|█████████▎| 14/15 [13:58<00:59, 59.73s/it]"
     ]
    },
    {
     "name": "stdout",
     "output_type": "stream",
     "text": [
      "train_loss: 0.1035, val_loss: 0.3352, train_acc: 0.9649, val_acc: 0.9079\n"
     ]
    },
    {
     "name": "stderr",
     "output_type": "stream",
     "text": [
      "epoch: 100%|██████████| 15/15 [14:57<00:00, 59.82s/it]"
     ]
    },
    {
     "name": "stdout",
     "output_type": "stream",
     "text": [
      "train_loss: 0.0912, val_loss: 0.2847, train_acc: 0.9703, val_acc: 0.9193\n"
     ]
    },
    {
     "name": "stderr",
     "output_type": "stream",
     "text": [
      "\n"
     ]
    }
   ],
   "source": [
    "from teacher_train import train, predict\n",
    "history_15 = train(train_dataset, test_dataset, resnet, 15, 64, DEVICE)"
   ]
  },
  {
   "cell_type": "code",
   "execution_count": 11,
   "metadata": {
    "colab": {
     "base_uri": "https://localhost:8080/",
     "height": 714
    },
    "colab_type": "code",
    "id": "SVYMXBLVgTIJ",
    "outputId": "c56a8852-5a99-414f-8048-6084d69debe9"
   },
   "outputs": [
    {
     "name": "stdout",
     "output_type": "stream",
     "text": [
      "Training on fold 1\n"
     ]
    },
    {
     "name": "stderr",
     "output_type": "stream",
     "text": [
      "epoch:  14%|█▍        | 1/7 [00:41<04:10, 41.75s/it]"
     ]
    },
    {
     "name": "stdout",
     "output_type": "stream",
     "text": [
      "train_loss: 3.9897, val_loss: 2.3016, train_acc: 0.1124, val_acc: 0.1360\n"
     ]
    },
    {
     "name": "stderr",
     "output_type": "stream",
     "text": [
      "epoch:  29%|██▊       | 2/7 [01:23<03:28, 41.66s/it]"
     ]
    },
    {
     "name": "stdout",
     "output_type": "stream",
     "text": [
      "train_loss: 2.2725, val_loss: 2.1274, train_acc: 0.1333, val_acc: 0.1812\n"
     ]
    },
    {
     "name": "stderr",
     "output_type": "stream",
     "text": [
      "epoch:  43%|████▎     | 3/7 [02:04<02:46, 41.65s/it]"
     ]
    },
    {
     "name": "stdout",
     "output_type": "stream",
     "text": [
      "train_loss: 1.4458, val_loss: 0.7298, train_acc: 0.4632, val_acc: 0.7758\n"
     ]
    },
    {
     "name": "stderr",
     "output_type": "stream",
     "text": [
      "epoch:  57%|█████▋    | 4/7 [02:46<02:04, 41.62s/it]"
     ]
    },
    {
     "name": "stdout",
     "output_type": "stream",
     "text": [
      "train_loss: 0.4550, val_loss: 0.3502, train_acc: 0.8490, val_acc: 0.8923\n"
     ]
    },
    {
     "name": "stderr",
     "output_type": "stream",
     "text": [
      "epoch:  71%|███████▏  | 5/7 [03:27<01:23, 41.51s/it]"
     ]
    },
    {
     "name": "stdout",
     "output_type": "stream",
     "text": [
      "train_loss: 0.2646, val_loss: 0.2704, train_acc: 0.9149, val_acc: 0.9176\n"
     ]
    },
    {
     "name": "stderr",
     "output_type": "stream",
     "text": [
      "epoch:  86%|████████▌ | 6/7 [04:09<00:41, 41.53s/it]"
     ]
    },
    {
     "name": "stdout",
     "output_type": "stream",
     "text": [
      "train_loss: 0.2166, val_loss: 0.2473, train_acc: 0.9313, val_acc: 0.9256\n"
     ]
    },
    {
     "name": "stderr",
     "output_type": "stream",
     "text": [
      "epoch: 100%|██████████| 7/7 [04:50<00:00, 41.50s/it]\n"
     ]
    },
    {
     "name": "stdout",
     "output_type": "stream",
     "text": [
      "train_loss: 0.1807, val_loss: 0.2381, train_acc: 0.9450, val_acc: 0.9304\n",
      "Fold 1 accuracy score: 0.9304386353566682\n",
      "Training on fold 2\n"
     ]
    },
    {
     "name": "stderr",
     "output_type": "stream",
     "text": [
      "epoch:  14%|█▍        | 1/7 [00:41<04:08, 41.44s/it]"
     ]
    },
    {
     "name": "stdout",
     "output_type": "stream",
     "text": [
      "train_loss: 3.9489, val_loss: 2.3014, train_acc: 0.1146, val_acc: 0.1077\n"
     ]
    },
    {
     "name": "stderr",
     "output_type": "stream",
     "text": [
      "epoch:  29%|██▊       | 2/7 [01:22<03:27, 41.41s/it]"
     ]
    },
    {
     "name": "stdout",
     "output_type": "stream",
     "text": [
      "train_loss: 2.2335, val_loss: 1.8676, train_acc: 0.2407, val_acc: 0.4003\n"
     ]
    },
    {
     "name": "stderr",
     "output_type": "stream",
     "text": [
      "epoch:  43%|████▎     | 3/7 [02:04<02:45, 41.47s/it]"
     ]
    },
    {
     "name": "stdout",
     "output_type": "stream",
     "text": [
      "train_loss: 1.0339, val_loss: 0.5376, train_acc: 0.6568, val_acc: 0.8298\n"
     ]
    },
    {
     "name": "stderr",
     "output_type": "stream",
     "text": [
      "epoch:  57%|█████▋    | 4/7 [02:46<02:04, 41.56s/it]"
     ]
    },
    {
     "name": "stdout",
     "output_type": "stream",
     "text": [
      "train_loss: 0.4035, val_loss: 0.3236, train_acc: 0.8762, val_acc: 0.8932\n"
     ]
    },
    {
     "name": "stderr",
     "output_type": "stream",
     "text": [
      "epoch:  71%|███████▏  | 5/7 [03:27<01:22, 41.47s/it]"
     ]
    },
    {
     "name": "stdout",
     "output_type": "stream",
     "text": [
      "train_loss: 0.2994, val_loss: 0.2700, train_acc: 0.9031, val_acc: 0.9149\n"
     ]
    },
    {
     "name": "stderr",
     "output_type": "stream",
     "text": [
      "epoch:  86%|████████▌ | 6/7 [04:09<00:41, 41.59s/it]"
     ]
    },
    {
     "name": "stdout",
     "output_type": "stream",
     "text": [
      "train_loss: 0.2521, val_loss: 0.2681, train_acc: 0.9223, val_acc: 0.9162\n"
     ]
    },
    {
     "name": "stderr",
     "output_type": "stream",
     "text": [
      "epoch: 100%|██████████| 7/7 [04:51<00:00, 41.63s/it]\n"
     ]
    },
    {
     "name": "stdout",
     "output_type": "stream",
     "text": [
      "train_loss: 0.2219, val_loss: 0.2554, train_acc: 0.9295, val_acc: 0.9198\n",
      "Fold 2 accuracy score: 0.9197695035460993\n",
      "Training on fold 3\n"
     ]
    },
    {
     "name": "stderr",
     "output_type": "stream",
     "text": [
      "epoch:  14%|█▍        | 1/7 [00:41<04:11, 41.97s/it]"
     ]
    },
    {
     "name": "stdout",
     "output_type": "stream",
     "text": [
      "train_loss: 3.9013, val_loss: 2.3019, train_acc: 0.1214, val_acc: 0.1024\n"
     ]
    },
    {
     "name": "stderr",
     "output_type": "stream",
     "text": [
      "epoch:  29%|██▊       | 2/7 [01:23<03:29, 41.96s/it]"
     ]
    },
    {
     "name": "stdout",
     "output_type": "stream",
     "text": [
      "train_loss: 2.2690, val_loss: 2.1114, train_acc: 0.1200, val_acc: 0.1219\n"
     ]
    },
    {
     "name": "stderr",
     "output_type": "stream",
     "text": [
      "epoch:  43%|████▎     | 3/7 [02:05<02:47, 41.94s/it]"
     ]
    },
    {
     "name": "stdout",
     "output_type": "stream",
     "text": [
      "train_loss: 1.4974, val_loss: 0.7253, train_acc: 0.4277, val_acc: 0.7425\n"
     ]
    },
    {
     "name": "stderr",
     "output_type": "stream",
     "text": [
      "epoch:  57%|█████▋    | 4/7 [02:47<02:05, 41.83s/it]"
     ]
    },
    {
     "name": "stdout",
     "output_type": "stream",
     "text": [
      "train_loss: 0.4847, val_loss: 0.3170, train_acc: 0.8382, val_acc: 0.9025\n"
     ]
    },
    {
     "name": "stderr",
     "output_type": "stream",
     "text": [
      "epoch:  71%|███████▏  | 5/7 [03:29<01:23, 41.81s/it]"
     ]
    },
    {
     "name": "stdout",
     "output_type": "stream",
     "text": [
      "train_loss: 0.2802, val_loss: 0.2703, train_acc: 0.9142, val_acc: 0.9158\n"
     ]
    },
    {
     "name": "stderr",
     "output_type": "stream",
     "text": [
      "epoch:  86%|████████▌ | 6/7 [04:10<00:41, 41.78s/it]"
     ]
    },
    {
     "name": "stdout",
     "output_type": "stream",
     "text": [
      "train_loss: 0.2288, val_loss: 0.2330, train_acc: 0.9282, val_acc: 0.9282\n"
     ]
    },
    {
     "name": "stderr",
     "output_type": "stream",
     "text": [
      "epoch: 100%|██████████| 7/7 [04:52<00:00, 41.82s/it]\n"
     ]
    },
    {
     "name": "stdout",
     "output_type": "stream",
     "text": [
      "train_loss: 0.2037, val_loss: 0.2547, train_acc: 0.9334, val_acc: 0.9193\n",
      "Fold 3 accuracy score: 0.9193262411347518\n",
      "Training on fold 4\n"
     ]
    },
    {
     "name": "stderr",
     "output_type": "stream",
     "text": [
      "epoch:  14%|█▍        | 1/7 [00:41<04:09, 41.55s/it]"
     ]
    },
    {
     "name": "stdout",
     "output_type": "stream",
     "text": [
      "train_loss: 3.9606, val_loss: 2.3022, train_acc: 0.1142, val_acc: 0.1059\n"
     ]
    },
    {
     "name": "stderr",
     "output_type": "stream",
     "text": [
      "epoch:  29%|██▊       | 2/7 [01:23<03:28, 41.63s/it]"
     ]
    },
    {
     "name": "stdout",
     "output_type": "stream",
     "text": [
      "train_loss: 2.2701, val_loss: 2.0851, train_acc: 0.1606, val_acc: 0.2695\n"
     ]
    },
    {
     "name": "stderr",
     "output_type": "stream",
     "text": [
      "epoch:  43%|████▎     | 3/7 [02:04<02:46, 41.59s/it]"
     ]
    },
    {
     "name": "stdout",
     "output_type": "stream",
     "text": [
      "train_loss: 1.2710, val_loss: 0.6690, train_acc: 0.5564, val_acc: 0.7810\n"
     ]
    },
    {
     "name": "stderr",
     "output_type": "stream",
     "text": [
      "epoch:  57%|█████▋    | 4/7 [02:46<02:04, 41.60s/it]"
     ]
    },
    {
     "name": "stdout",
     "output_type": "stream",
     "text": [
      "train_loss: 0.4440, val_loss: 0.3937, train_acc: 0.8532, val_acc: 0.8675\n"
     ]
    },
    {
     "name": "stderr",
     "output_type": "stream",
     "text": [
      "epoch:  71%|███████▏  | 5/7 [03:28<01:23, 41.60s/it]"
     ]
    },
    {
     "name": "stdout",
     "output_type": "stream",
     "text": [
      "train_loss: 0.2968, val_loss: 0.3159, train_acc: 0.9041, val_acc: 0.8927\n"
     ]
    },
    {
     "name": "stderr",
     "output_type": "stream",
     "text": [
      "epoch:  86%|████████▌ | 6/7 [04:09<00:41, 41.62s/it]"
     ]
    },
    {
     "name": "stdout",
     "output_type": "stream",
     "text": [
      "train_loss: 0.2331, val_loss: 0.2845, train_acc: 0.9275, val_acc: 0.9020\n"
     ]
    },
    {
     "name": "stderr",
     "output_type": "stream",
     "text": [
      "epoch: 100%|██████████| 7/7 [04:51<00:00, 41.62s/it]\n"
     ]
    },
    {
     "name": "stdout",
     "output_type": "stream",
     "text": [
      "train_loss: 0.1998, val_loss: 0.2818, train_acc: 0.9372, val_acc: 0.9043\n",
      "Fold 4 accuracy score: 0.9042553191489362\n",
      "OOF accuracy score: 0.9184487534626039\n"
     ]
    }
   ],
   "source": [
    "temperatures = [1, 2, 3, 5, 8, 10]\n",
    "cv = StratifiedKFold(n_splits=4, shuffle=True, random_state=SEED)\n",
    "ground = np.array(Imagewoof(train_val_files, LABEL_ENCODER).labels)\n",
    "oof_probas = [np.empty((len(train_val_files), 10), float) for t in temperatures]\n",
    "\n",
    "for fold, (train_idx, val_idx) in enumerate(cv.split(train_val_files, LABEL_ENCODER.transform(train_val_labels))):\n",
    "    print('Training on fold', fold + 1)\n",
    "\n",
    "    val_dataset = Imagewoof(np.array(train_val_files)[val_idx], LABEL_ENCODER)\n",
    "    train_dataset = Imagewoof(np.array(train_val_files)[train_idx], LABEL_ENCODER)\n",
    "    \n",
    "    model = resnet18(10, DEVICE)\n",
    "    history = train(train_dataset, val_dataset, model=model, epochs=7, batch_size=64, device=DEVICE)\n",
    "    \n",
    "    val_loader = DataLoader(val_dataset, shuffle=False, batch_size=64)\n",
    "    labels_val = ground[val_idx]\n",
    "\n",
    "    for i, temp in enumerate(temperatures):\n",
    "        probas_val = predict(model, val_loader, DEVICE, temp)\n",
    "        oof_probas[i][val_idx] = probas_val\n",
    "        preds_val = np.argmax(probas_val, axis=1)\n",
    "    print(f'Fold {fold + 1} accuracy score:', accuracy_score(labels_val, preds_val))\n",
    "\n",
    "oof_preds = np.argmax(oof_probas[0], axis=1)\n",
    "print('OOF accuracy score:', accuracy_score(ground, oof_preds))"
   ]
  },
  {
   "cell_type": "code",
   "execution_count": 12,
   "metadata": {
    "colab": {},
    "colab_type": "code",
    "id": "bafPzd1YoCWu"
   },
   "outputs": [],
   "source": [
    "import os\n",
    "os.makedirs(\"./dark_knowledge\", exist_ok=True)\n",
    "\n",
    "for i in range(len(oof_probas)):\n",
    "    np.save(f\"./dark_knowledge/resnet18_T_{temperatures[i]}.npy\", oof_probas[i])"
   ]
  }
 ],
 "metadata": {
  "accelerator": "GPU",
  "colab": {
   "name": "experiments.ipynb",
   "provenance": []
  },
  "kernelspec": {
   "display_name": "Python 3",
   "language": "python",
   "name": "python3"
  },
  "language_info": {
   "codemirror_mode": {
    "name": "ipython",
    "version": 3
   },
   "file_extension": ".py",
   "mimetype": "text/x-python",
   "name": "python",
   "nbconvert_exporter": "python",
   "pygments_lexer": "ipython3",
   "version": "3.6.9"
  },
  "widgets": {
   "application/vnd.jupyter.widget-state+json": {
    "17bd47b308ea43a297da4fbdbee29875": {
     "model_module": "@jupyter-widgets/base",
     "model_name": "LayoutModel",
     "state": {
      "_model_module": "@jupyter-widgets/base",
      "_model_module_version": "1.2.0",
      "_model_name": "LayoutModel",
      "_view_count": null,
      "_view_module": "@jupyter-widgets/base",
      "_view_module_version": "1.2.0",
      "_view_name": "LayoutView",
      "align_content": null,
      "align_items": null,
      "align_self": null,
      "border": null,
      "bottom": null,
      "display": null,
      "flex": null,
      "flex_flow": null,
      "grid_area": null,
      "grid_auto_columns": null,
      "grid_auto_flow": null,
      "grid_auto_rows": null,
      "grid_column": null,
      "grid_gap": null,
      "grid_row": null,
      "grid_template_areas": null,
      "grid_template_columns": null,
      "grid_template_rows": null,
      "height": null,
      "justify_content": null,
      "justify_items": null,
      "left": null,
      "margin": null,
      "max_height": null,
      "max_width": null,
      "min_height": null,
      "min_width": null,
      "object_fit": null,
      "object_position": null,
      "order": null,
      "overflow": null,
      "overflow_x": null,
      "overflow_y": null,
      "padding": null,
      "right": null,
      "top": null,
      "visibility": null,
      "width": null
     }
    },
    "276a31b0a386483a9285d6f910780f81": {
     "model_module": "@jupyter-widgets/controls",
     "model_name": "DescriptionStyleModel",
     "state": {
      "_model_module": "@jupyter-widgets/controls",
      "_model_module_version": "1.5.0",
      "_model_name": "DescriptionStyleModel",
      "_view_count": null,
      "_view_module": "@jupyter-widgets/base",
      "_view_module_version": "1.2.0",
      "_view_name": "StyleView",
      "description_width": ""
     }
    },
    "56df267d12204e6fa04178c177e081d3": {
     "model_module": "@jupyter-widgets/base",
     "model_name": "LayoutModel",
     "state": {
      "_model_module": "@jupyter-widgets/base",
      "_model_module_version": "1.2.0",
      "_model_name": "LayoutModel",
      "_view_count": null,
      "_view_module": "@jupyter-widgets/base",
      "_view_module_version": "1.2.0",
      "_view_name": "LayoutView",
      "align_content": null,
      "align_items": null,
      "align_self": null,
      "border": null,
      "bottom": null,
      "display": null,
      "flex": null,
      "flex_flow": null,
      "grid_area": null,
      "grid_auto_columns": null,
      "grid_auto_flow": null,
      "grid_auto_rows": null,
      "grid_column": null,
      "grid_gap": null,
      "grid_row": null,
      "grid_template_areas": null,
      "grid_template_columns": null,
      "grid_template_rows": null,
      "height": null,
      "justify_content": null,
      "justify_items": null,
      "left": null,
      "margin": null,
      "max_height": null,
      "max_width": null,
      "min_height": null,
      "min_width": null,
      "object_fit": null,
      "object_position": null,
      "order": null,
      "overflow": null,
      "overflow_x": null,
      "overflow_y": null,
      "padding": null,
      "right": null,
      "top": null,
      "visibility": null,
      "width": null
     }
    },
    "6a56f456b8524543947ba9e8689aa9ea": {
     "model_module": "@jupyter-widgets/controls",
     "model_name": "HTMLModel",
     "state": {
      "_dom_classes": [],
      "_model_module": "@jupyter-widgets/controls",
      "_model_module_version": "1.5.0",
      "_model_name": "HTMLModel",
      "_view_count": null,
      "_view_module": "@jupyter-widgets/controls",
      "_view_module_version": "1.5.0",
      "_view_name": "HTMLView",
      "description": "",
      "description_tooltip": null,
      "layout": "IPY_MODEL_17bd47b308ea43a297da4fbdbee29875",
      "placeholder": "​",
      "style": "IPY_MODEL_276a31b0a386483a9285d6f910780f81",
      "value": " 44.7M/44.7M [14:24&lt;00:00, 54.2kB/s]"
     }
    },
    "b8c71c3ae75b49a4a6ccef4df75b152d": {
     "model_module": "@jupyter-widgets/controls",
     "model_name": "FloatProgressModel",
     "state": {
      "_dom_classes": [],
      "_model_module": "@jupyter-widgets/controls",
      "_model_module_version": "1.5.0",
      "_model_name": "FloatProgressModel",
      "_view_count": null,
      "_view_module": "@jupyter-widgets/controls",
      "_view_module_version": "1.5.0",
      "_view_name": "ProgressView",
      "bar_style": "success",
      "description": "100%",
      "description_tooltip": null,
      "layout": "IPY_MODEL_e49e7a04e9c546e487d2dd894e450ee7",
      "max": 46827520,
      "min": 0,
      "orientation": "horizontal",
      "style": "IPY_MODEL_bedba384510c4a9e9eda880048886015",
      "value": 46827520
     }
    },
    "bedba384510c4a9e9eda880048886015": {
     "model_module": "@jupyter-widgets/controls",
     "model_name": "ProgressStyleModel",
     "state": {
      "_model_module": "@jupyter-widgets/controls",
      "_model_module_version": "1.5.0",
      "_model_name": "ProgressStyleModel",
      "_view_count": null,
      "_view_module": "@jupyter-widgets/base",
      "_view_module_version": "1.2.0",
      "_view_name": "StyleView",
      "bar_color": null,
      "description_width": "initial"
     }
    },
    "c3192d53e4cf4bada9465dc58a5343f9": {
     "model_module": "@jupyter-widgets/controls",
     "model_name": "HBoxModel",
     "state": {
      "_dom_classes": [],
      "_model_module": "@jupyter-widgets/controls",
      "_model_module_version": "1.5.0",
      "_model_name": "HBoxModel",
      "_view_count": null,
      "_view_module": "@jupyter-widgets/controls",
      "_view_module_version": "1.5.0",
      "_view_name": "HBoxView",
      "box_style": "",
      "children": [
       "IPY_MODEL_b8c71c3ae75b49a4a6ccef4df75b152d",
       "IPY_MODEL_6a56f456b8524543947ba9e8689aa9ea"
      ],
      "layout": "IPY_MODEL_56df267d12204e6fa04178c177e081d3"
     }
    },
    "e49e7a04e9c546e487d2dd894e450ee7": {
     "model_module": "@jupyter-widgets/base",
     "model_name": "LayoutModel",
     "state": {
      "_model_module": "@jupyter-widgets/base",
      "_model_module_version": "1.2.0",
      "_model_name": "LayoutModel",
      "_view_count": null,
      "_view_module": "@jupyter-widgets/base",
      "_view_module_version": "1.2.0",
      "_view_name": "LayoutView",
      "align_content": null,
      "align_items": null,
      "align_self": null,
      "border": null,
      "bottom": null,
      "display": null,
      "flex": null,
      "flex_flow": null,
      "grid_area": null,
      "grid_auto_columns": null,
      "grid_auto_flow": null,
      "grid_auto_rows": null,
      "grid_column": null,
      "grid_gap": null,
      "grid_row": null,
      "grid_template_areas": null,
      "grid_template_columns": null,
      "grid_template_rows": null,
      "height": null,
      "justify_content": null,
      "justify_items": null,
      "left": null,
      "margin": null,
      "max_height": null,
      "max_width": null,
      "min_height": null,
      "min_width": null,
      "object_fit": null,
      "object_position": null,
      "order": null,
      "overflow": null,
      "overflow_x": null,
      "overflow_y": null,
      "padding": null,
      "right": null,
      "top": null,
      "visibility": null,
      "width": null
     }
    }
   }
  }
 },
 "nbformat": 4,
 "nbformat_minor": 1
}
