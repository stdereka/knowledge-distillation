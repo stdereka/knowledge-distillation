{
  "nbformat": 4,
  "nbformat_minor": 0,
  "metadata": {
    "kernelspec": {
      "display_name": "Python 3",
      "language": "python",
      "name": "python3"
    },
    "language_info": {
      "codemirror_mode": {
        "name": "ipython",
        "version": 3
      },
      "file_extension": ".py",
      "mimetype": "text/x-python",
      "name": "python",
      "nbconvert_exporter": "python",
      "pygments_lexer": "ipython3",
      "version": "3.6.9"
    },
    "colab": {
      "name": "report.ipynb",
      "provenance": [],
      "collapsed_sections": [],
      "toc_visible": true
    },
    "accelerator": "GPU",
    "widgets": {
      "application/vnd.jupyter.widget-state+json": {
        "c30954fdc0ef431a8a02e5a7c23691f7": {
          "model_module": "@jupyter-widgets/controls",
          "model_name": "HBoxModel",
          "state": {
            "_view_name": "HBoxView",
            "_dom_classes": [],
            "_model_name": "HBoxModel",
            "_view_module": "@jupyter-widgets/controls",
            "_model_module_version": "1.5.0",
            "_view_count": null,
            "_view_module_version": "1.5.0",
            "box_style": "",
            "layout": "IPY_MODEL_fee75ed77f0a44bf8d0d32eeed07fa6a",
            "_model_module": "@jupyter-widgets/controls",
            "children": [
              "IPY_MODEL_e7312f15a5a044d3ab736a193776038e",
              "IPY_MODEL_f7c90ff6273f42d4ac04524a9804cdb0"
            ]
          }
        },
        "fee75ed77f0a44bf8d0d32eeed07fa6a": {
          "model_module": "@jupyter-widgets/base",
          "model_name": "LayoutModel",
          "state": {
            "_view_name": "LayoutView",
            "grid_template_rows": null,
            "right": null,
            "justify_content": null,
            "_view_module": "@jupyter-widgets/base",
            "overflow": null,
            "_model_module_version": "1.2.0",
            "_view_count": null,
            "flex_flow": null,
            "width": null,
            "min_width": null,
            "border": null,
            "align_items": null,
            "bottom": null,
            "_model_module": "@jupyter-widgets/base",
            "top": null,
            "grid_column": null,
            "overflow_y": null,
            "overflow_x": null,
            "grid_auto_flow": null,
            "grid_area": null,
            "grid_template_columns": null,
            "flex": null,
            "_model_name": "LayoutModel",
            "justify_items": null,
            "grid_row": null,
            "max_height": null,
            "align_content": null,
            "visibility": null,
            "align_self": null,
            "height": null,
            "min_height": null,
            "padding": null,
            "grid_auto_rows": null,
            "grid_gap": null,
            "max_width": null,
            "order": null,
            "_view_module_version": "1.2.0",
            "grid_template_areas": null,
            "object_position": null,
            "object_fit": null,
            "grid_auto_columns": null,
            "margin": null,
            "display": null,
            "left": null
          }
        },
        "e7312f15a5a044d3ab736a193776038e": {
          "model_module": "@jupyter-widgets/controls",
          "model_name": "FloatProgressModel",
          "state": {
            "_view_name": "ProgressView",
            "style": "IPY_MODEL_0e6f1366516c4466898f66d5ed3b4636",
            "_dom_classes": [],
            "description": "100%",
            "_model_name": "FloatProgressModel",
            "bar_style": "success",
            "max": 178728960,
            "_view_module": "@jupyter-widgets/controls",
            "_model_module_version": "1.5.0",
            "value": 178728960,
            "_view_count": null,
            "_view_module_version": "1.5.0",
            "orientation": "horizontal",
            "min": 0,
            "description_tooltip": null,
            "_model_module": "@jupyter-widgets/controls",
            "layout": "IPY_MODEL_292d83706d1e4f899407849a3b9eec57"
          }
        },
        "f7c90ff6273f42d4ac04524a9804cdb0": {
          "model_module": "@jupyter-widgets/controls",
          "model_name": "HTMLModel",
          "state": {
            "_view_name": "HTMLView",
            "style": "IPY_MODEL_7f8ab8dc9e38412980e6c0d0942c2b73",
            "_dom_classes": [],
            "description": "",
            "_model_name": "HTMLModel",
            "placeholder": "​",
            "_view_module": "@jupyter-widgets/controls",
            "_model_module_version": "1.5.0",
            "value": " 170M/170M [00:02&lt;00:00, 80.7MB/s]",
            "_view_count": null,
            "_view_module_version": "1.5.0",
            "description_tooltip": null,
            "_model_module": "@jupyter-widgets/controls",
            "layout": "IPY_MODEL_92e1a14c232048cf84152ef9d52b0f63"
          }
        },
        "0e6f1366516c4466898f66d5ed3b4636": {
          "model_module": "@jupyter-widgets/controls",
          "model_name": "ProgressStyleModel",
          "state": {
            "_view_name": "StyleView",
            "_model_name": "ProgressStyleModel",
            "description_width": "initial",
            "_view_module": "@jupyter-widgets/base",
            "_model_module_version": "1.5.0",
            "_view_count": null,
            "_view_module_version": "1.2.0",
            "bar_color": null,
            "_model_module": "@jupyter-widgets/controls"
          }
        },
        "292d83706d1e4f899407849a3b9eec57": {
          "model_module": "@jupyter-widgets/base",
          "model_name": "LayoutModel",
          "state": {
            "_view_name": "LayoutView",
            "grid_template_rows": null,
            "right": null,
            "justify_content": null,
            "_view_module": "@jupyter-widgets/base",
            "overflow": null,
            "_model_module_version": "1.2.0",
            "_view_count": null,
            "flex_flow": null,
            "width": null,
            "min_width": null,
            "border": null,
            "align_items": null,
            "bottom": null,
            "_model_module": "@jupyter-widgets/base",
            "top": null,
            "grid_column": null,
            "overflow_y": null,
            "overflow_x": null,
            "grid_auto_flow": null,
            "grid_area": null,
            "grid_template_columns": null,
            "flex": null,
            "_model_name": "LayoutModel",
            "justify_items": null,
            "grid_row": null,
            "max_height": null,
            "align_content": null,
            "visibility": null,
            "align_self": null,
            "height": null,
            "min_height": null,
            "padding": null,
            "grid_auto_rows": null,
            "grid_gap": null,
            "max_width": null,
            "order": null,
            "_view_module_version": "1.2.0",
            "grid_template_areas": null,
            "object_position": null,
            "object_fit": null,
            "grid_auto_columns": null,
            "margin": null,
            "display": null,
            "left": null
          }
        },
        "7f8ab8dc9e38412980e6c0d0942c2b73": {
          "model_module": "@jupyter-widgets/controls",
          "model_name": "DescriptionStyleModel",
          "state": {
            "_view_name": "StyleView",
            "_model_name": "DescriptionStyleModel",
            "description_width": "",
            "_view_module": "@jupyter-widgets/base",
            "_model_module_version": "1.5.0",
            "_view_count": null,
            "_view_module_version": "1.2.0",
            "_model_module": "@jupyter-widgets/controls"
          }
        },
        "92e1a14c232048cf84152ef9d52b0f63": {
          "model_module": "@jupyter-widgets/base",
          "model_name": "LayoutModel",
          "state": {
            "_view_name": "LayoutView",
            "grid_template_rows": null,
            "right": null,
            "justify_content": null,
            "_view_module": "@jupyter-widgets/base",
            "overflow": null,
            "_model_module_version": "1.2.0",
            "_view_count": null,
            "flex_flow": null,
            "width": null,
            "min_width": null,
            "border": null,
            "align_items": null,
            "bottom": null,
            "_model_module": "@jupyter-widgets/base",
            "top": null,
            "grid_column": null,
            "overflow_y": null,
            "overflow_x": null,
            "grid_auto_flow": null,
            "grid_area": null,
            "grid_template_columns": null,
            "flex": null,
            "_model_name": "LayoutModel",
            "justify_items": null,
            "grid_row": null,
            "max_height": null,
            "align_content": null,
            "visibility": null,
            "align_self": null,
            "height": null,
            "min_height": null,
            "padding": null,
            "grid_auto_rows": null,
            "grid_gap": null,
            "max_width": null,
            "order": null,
            "_view_module_version": "1.2.0",
            "grid_template_areas": null,
            "object_position": null,
            "object_fit": null,
            "grid_auto_columns": null,
            "margin": null,
            "display": null,
            "left": null
          }
        },
        "9b0041522d2b47f9b930bce342c79444": {
          "model_module": "@jupyter-widgets/controls",
          "model_name": "HBoxModel",
          "state": {
            "_view_name": "HBoxView",
            "_dom_classes": [],
            "_model_name": "HBoxModel",
            "_view_module": "@jupyter-widgets/controls",
            "_model_module_version": "1.5.0",
            "_view_count": null,
            "_view_module_version": "1.5.0",
            "box_style": "",
            "layout": "IPY_MODEL_55c09ebacd7b4955a531f80ab017edec",
            "_model_module": "@jupyter-widgets/controls",
            "children": [
              "IPY_MODEL_b44564a8110943e8b677669ad1b2b201",
              "IPY_MODEL_c6f584f8ab66478582118279550a8c61"
            ]
          }
        },
        "55c09ebacd7b4955a531f80ab017edec": {
          "model_module": "@jupyter-widgets/base",
          "model_name": "LayoutModel",
          "state": {
            "_view_name": "LayoutView",
            "grid_template_rows": null,
            "right": null,
            "justify_content": null,
            "_view_module": "@jupyter-widgets/base",
            "overflow": null,
            "_model_module_version": "1.2.0",
            "_view_count": null,
            "flex_flow": null,
            "width": null,
            "min_width": null,
            "border": null,
            "align_items": null,
            "bottom": null,
            "_model_module": "@jupyter-widgets/base",
            "top": null,
            "grid_column": null,
            "overflow_y": null,
            "overflow_x": null,
            "grid_auto_flow": null,
            "grid_area": null,
            "grid_template_columns": null,
            "flex": null,
            "_model_name": "LayoutModel",
            "justify_items": null,
            "grid_row": null,
            "max_height": null,
            "align_content": null,
            "visibility": null,
            "align_self": null,
            "height": null,
            "min_height": null,
            "padding": null,
            "grid_auto_rows": null,
            "grid_gap": null,
            "max_width": null,
            "order": null,
            "_view_module_version": "1.2.0",
            "grid_template_areas": null,
            "object_position": null,
            "object_fit": null,
            "grid_auto_columns": null,
            "margin": null,
            "display": null,
            "left": null
          }
        },
        "b44564a8110943e8b677669ad1b2b201": {
          "model_module": "@jupyter-widgets/controls",
          "model_name": "FloatProgressModel",
          "state": {
            "_view_name": "ProgressView",
            "style": "IPY_MODEL_14440a03e0344429b83c4a09eda7e631",
            "_dom_classes": [],
            "description": "100%",
            "_model_name": "FloatProgressModel",
            "bar_style": "success",
            "max": 46827520,
            "_view_module": "@jupyter-widgets/controls",
            "_model_module_version": "1.5.0",
            "value": 46827520,
            "_view_count": null,
            "_view_module_version": "1.5.0",
            "orientation": "horizontal",
            "min": 0,
            "description_tooltip": null,
            "_model_module": "@jupyter-widgets/controls",
            "layout": "IPY_MODEL_b54de2a053694f9b82d15990b6dc4425"
          }
        },
        "c6f584f8ab66478582118279550a8c61": {
          "model_module": "@jupyter-widgets/controls",
          "model_name": "HTMLModel",
          "state": {
            "_view_name": "HTMLView",
            "style": "IPY_MODEL_ded04a2b3cc6439189ed1f08e4ed32c5",
            "_dom_classes": [],
            "description": "",
            "_model_name": "HTMLModel",
            "placeholder": "​",
            "_view_module": "@jupyter-widgets/controls",
            "_model_module_version": "1.5.0",
            "value": " 44.7M/44.7M [10:03&lt;00:00, 77.6kB/s]",
            "_view_count": null,
            "_view_module_version": "1.5.0",
            "description_tooltip": null,
            "_model_module": "@jupyter-widgets/controls",
            "layout": "IPY_MODEL_4807071d982746158eb4e22652156cb5"
          }
        },
        "14440a03e0344429b83c4a09eda7e631": {
          "model_module": "@jupyter-widgets/controls",
          "model_name": "ProgressStyleModel",
          "state": {
            "_view_name": "StyleView",
            "_model_name": "ProgressStyleModel",
            "description_width": "initial",
            "_view_module": "@jupyter-widgets/base",
            "_model_module_version": "1.5.0",
            "_view_count": null,
            "_view_module_version": "1.2.0",
            "bar_color": null,
            "_model_module": "@jupyter-widgets/controls"
          }
        },
        "b54de2a053694f9b82d15990b6dc4425": {
          "model_module": "@jupyter-widgets/base",
          "model_name": "LayoutModel",
          "state": {
            "_view_name": "LayoutView",
            "grid_template_rows": null,
            "right": null,
            "justify_content": null,
            "_view_module": "@jupyter-widgets/base",
            "overflow": null,
            "_model_module_version": "1.2.0",
            "_view_count": null,
            "flex_flow": null,
            "width": null,
            "min_width": null,
            "border": null,
            "align_items": null,
            "bottom": null,
            "_model_module": "@jupyter-widgets/base",
            "top": null,
            "grid_column": null,
            "overflow_y": null,
            "overflow_x": null,
            "grid_auto_flow": null,
            "grid_area": null,
            "grid_template_columns": null,
            "flex": null,
            "_model_name": "LayoutModel",
            "justify_items": null,
            "grid_row": null,
            "max_height": null,
            "align_content": null,
            "visibility": null,
            "align_self": null,
            "height": null,
            "min_height": null,
            "padding": null,
            "grid_auto_rows": null,
            "grid_gap": null,
            "max_width": null,
            "order": null,
            "_view_module_version": "1.2.0",
            "grid_template_areas": null,
            "object_position": null,
            "object_fit": null,
            "grid_auto_columns": null,
            "margin": null,
            "display": null,
            "left": null
          }
        },
        "ded04a2b3cc6439189ed1f08e4ed32c5": {
          "model_module": "@jupyter-widgets/controls",
          "model_name": "DescriptionStyleModel",
          "state": {
            "_view_name": "StyleView",
            "_model_name": "DescriptionStyleModel",
            "description_width": "",
            "_view_module": "@jupyter-widgets/base",
            "_model_module_version": "1.5.0",
            "_view_count": null,
            "_view_module_version": "1.2.0",
            "_model_module": "@jupyter-widgets/controls"
          }
        },
        "4807071d982746158eb4e22652156cb5": {
          "model_module": "@jupyter-widgets/base",
          "model_name": "LayoutModel",
          "state": {
            "_view_name": "LayoutView",
            "grid_template_rows": null,
            "right": null,
            "justify_content": null,
            "_view_module": "@jupyter-widgets/base",
            "overflow": null,
            "_model_module_version": "1.2.0",
            "_view_count": null,
            "flex_flow": null,
            "width": null,
            "min_width": null,
            "border": null,
            "align_items": null,
            "bottom": null,
            "_model_module": "@jupyter-widgets/base",
            "top": null,
            "grid_column": null,
            "overflow_y": null,
            "overflow_x": null,
            "grid_auto_flow": null,
            "grid_area": null,
            "grid_template_columns": null,
            "flex": null,
            "_model_name": "LayoutModel",
            "justify_items": null,
            "grid_row": null,
            "max_height": null,
            "align_content": null,
            "visibility": null,
            "align_self": null,
            "height": null,
            "min_height": null,
            "padding": null,
            "grid_auto_rows": null,
            "grid_gap": null,
            "max_width": null,
            "order": null,
            "_view_module_version": "1.2.0",
            "grid_template_areas": null,
            "object_position": null,
            "object_fit": null,
            "grid_auto_columns": null,
            "margin": null,
            "display": null,
            "left": null
          }
        }
      }
    }
  },
  "cells": [
    {
      "cell_type": "markdown",
      "metadata": {
        "id": "uPhAyD04uUny",
        "colab_type": "text"
      },
      "source": [
        "# Knowledge Distillation"
      ]
    },
    {
      "cell_type": "markdown",
      "metadata": {
        "id": "rTJSTdYpuUn0",
        "colab_type": "text"
      },
      "source": [
        "В этом ноутбуке содержится описание моих основных экспериментов по knowledge distillation. Здесь будут в основном графики и описания экспериментов, весь код для обучения и оценки качества моделей вынесен в отдельные модули. Проще всего запустить в Google Colab, тогда не нужно дополнительно устанавливать никаких зависимостей. Если хотите запустить решение на своей локальной машине, то следуйте инструкциям в README.md.\n",
        "\n",
        "Выполните следующие две ячейки, если работаете в Google Colab:"
      ]
    },
    {
      "cell_type": "code",
      "metadata": {
        "id": "02zTCXQjuUn1",
        "colab_type": "code",
        "colab": {
          "base_uri": "https://localhost:8080/",
          "height": 136
        },
        "outputId": "1ab0ff4a-5887-47b8-bd08-bf0e2644a583"
      },
      "source": [
        "! git clone https://github.com/stdereka/knowledge-distillation.git\n",
        "! cp -r knowledge-distillation/dark_knowledge/ .\n",
        "! cp -r knowledge-distillation/experiments/ ."
      ],
      "execution_count": 1,
      "outputs": [
        {
          "output_type": "stream",
          "text": [
            "Cloning into 'knowledge-distillation'...\n",
            "remote: Enumerating objects: 225, done.\u001b[K\n",
            "remote: Counting objects: 100% (225/225), done.\u001b[K\n",
            "remote: Compressing objects: 100% (175/175), done.\u001b[K\n",
            "remote: Total 225 (delta 111), reused 140 (delta 44), pack-reused 0\u001b[K\n",
            "Receiving objects: 100% (225/225), 3.53 MiB | 3.13 MiB/s, done.\n",
            "Resolving deltas: 100% (111/111), done.\n"
          ],
          "name": "stdout"
        }
      ]
    },
    {
      "cell_type": "code",
      "metadata": {
        "id": "rrBvE8PMuUn7",
        "colab_type": "code",
        "colab": {}
      },
      "source": [
        "import sys\n",
        "sys.path.insert(1, \"/content/knowledge-distillation\")"
      ],
      "execution_count": 2,
      "outputs": []
    },
    {
      "cell_type": "markdown",
      "metadata": {
        "id": "HYjY2SP0uUoA",
        "colab_type": "text"
      },
      "source": [
        "## 1. Описание задачи\n",
        "\n",
        "Метод KD был изначально предложен в [статье](https://arxiv.org/pdf/1503.02531.pdf). Для задачи многоклассовой классификации утверждается, что вероятности классов, предсказанные моделью-учителем, могут быть исползованы для обучения более простой модели-студента с меньшим числом параметров путём модификации лосса. Для многоклассовой классификации предлагается следующая функция потерь (здесь индекс $i$ пробегает по всем классам и по всем объектам):\n",
        "\n",
        "\\begin{equation}\n",
        "E=-T^{2} (1 - \\alpha) \\sum_{i} \\hat{y}_{i}(\\mathbf{x} \\mid T) \\log y_{i}(\\mathbf{x} \\mid T)- \\alpha\\sum_{i} \\bar{y}_{i} \\log y_{i}(\\mathbf{x} \\mid 1)\n",
        "\\end{equation}\n",
        "\n",
        "где $y_{i}(\\mathbf{x} \\mid T)=\\frac{e^{\\frac{z_{i}(\\mathbf{x})}{T}}}{\\sum_{j} e^{\\frac{z_{j}(\\mathrm{x})}{T}}}$ - предсказания модели при температуре $T$ (она требуется для того, чтобы предсказания сильнее отличались от 0 и 1 и несли больше информации), $\\hat{y}_{i}(\\mathbf{x} \\mid T)$ - \"мягкие\" метки учителя, $\\bar{y}_{i}$ - \"жёсткие\" groundtruth метки. $\\alpha$ - весовой параметр для регулирования вклада жёсткой и мягкой кроссэнтропий в градиент. Авторы статьи пишут, что всё должно хорошо работать при $\\alpha$ близком к нулю.\n"
      ]
    },
    {
      "cell_type": "markdown",
      "metadata": {
        "id": "kASf4BKIuUoB",
        "colab_type": "text"
      },
      "source": [
        "## 2. Почему Imagewoof?\n",
        "\n",
        "Imagewoof - датасет из изображений собак, относящимся к разным породам. На нём можно решать задачу многоклассовой классификации. Я выбрал его для экспериментов по нескольким причинам. Во-первых, классы трудноразделимы, слишком простые модели не смогут эффективно решить задачи, поэтому есть шансы пронаблюдать эффекты KD на более сложных моделях. Во-вторых, по Imagewoof не так много публикаций на тему KD, это значит, что результаты экспериментов мне заранее не известны.\n",
        "\n",
        "Сначала я хотел начать с воспроизведения результатов статьи на датасете MNIST, потом попробовать CIFAR-10, но это уже сделали за меня, например, [тут](https://github.com/peterliht/knowledge-distillation-pytorch). Я решил сразу начать со своих экспериментов на более сложной задаче."
      ]
    },
    {
      "cell_type": "markdown",
      "metadata": {
        "id": "zMwiH9V4uUoC",
        "colab_type": "text"
      },
      "source": [
        "## 3. Общая схема эксперимента\n",
        "\n",
        "1. **Выбрать и обучить модель-учитель.** Эта модель должна содержать большое число параметров (возможно, даже избыточное) и быть сильно регуляризована (в задачах CV подойдут сильные дропауты и аугментации), а также выдавать очень хорошее (по меркам задачи) качество на отложенной выборке.\n",
        "\n",
        "2. **Обучение и оценка качества модели-студента с Distillation Loss.** Модель-студент содержит ощутимо меньше параметров, чем модель-учитель и никак не регуляризована. На этом этапе можно играть с параметрами $\\alpha$, $T$, размером обучающей выборки и много чем ещё.\n",
        "\n",
        "3. **Обучить модель-студента без помощи учителя.** Здесь очень важно, чтобы процесс обучения отличался только лоссом, это позволит исключить вклад всех прочих факторов.\n",
        "\n",
        "4. **Сравнить метрики в пунктах 2 и 3**, построить выводы об эффективности KD в текущем эксперименте.\n",
        "\n",
        "Из бесплатных ресурсов в моём распоряженни только Google Colab, это очень неудобно с точки зрения разработки и воспроизводимости результатов, но я смог найти выход и прийти к следующей схеме. Код пишется и тестируется локально на моём компьютере. Когда всё готово, ноутбук с параметрами отправляется на Google Сolab, подтягивает код с GitHub и выполняет эксперимент. Затем код, результаты и параметры сохраняются в одном коммите, это позволяет при необходимости вернуться и воспроизвести эксперимент."
      ]
    },
    {
      "cell_type": "markdown",
      "metadata": {
        "id": "aS3LIxNxuUoC",
        "colab_type": "text"
      },
      "source": [
        "## 4. Демонстрационный эксперимент\n",
        "\n",
        "В этой части я проведу эксперимент согласно пункту 3."
      ]
    },
    {
      "cell_type": "code",
      "metadata": {
        "id": "4AvqCBhJuUoD",
        "colab_type": "code",
        "colab": {
          "base_uri": "https://localhost:8080/",
          "height": 544
        },
        "outputId": "e645117d-f2df-43db-c077-1b7112443405"
      },
      "source": [
        "# Load data\n",
        "! wget https://s3.amazonaws.com/fast-ai-imageclas/imagewoof2-320.tgz\n",
        "! tar zxf imagewoof2-320.tgz\n",
        "# Check GPU\n",
        "! nvidia-smi"
      ],
      "execution_count": 3,
      "outputs": [
        {
          "output_type": "stream",
          "text": [
            "--2020-09-21 20:10:03--  https://s3.amazonaws.com/fast-ai-imageclas/imagewoof2-320.tgz\n",
            "Resolving s3.amazonaws.com (s3.amazonaws.com)... 52.216.112.150\n",
            "Connecting to s3.amazonaws.com (s3.amazonaws.com)|52.216.112.150|:443... connected.\n",
            "HTTP request sent, awaiting response... 200 OK\n",
            "Length: 328288506 (313M) [application/x-tar]\n",
            "Saving to: ‘imagewoof2-320.tgz’\n",
            "\n",
            "imagewoof2-320.tgz  100%[===================>] 313.08M  16.8MB/s    in 21s     \n",
            "\n",
            "2020-09-21 20:10:24 (15.3 MB/s) - ‘imagewoof2-320.tgz’ saved [328288506/328288506]\n",
            "\n",
            "Mon Sep 21 20:10:29 2020       \n",
            "+-----------------------------------------------------------------------------+\n",
            "| NVIDIA-SMI 450.66       Driver Version: 418.67       CUDA Version: 10.1     |\n",
            "|-------------------------------+----------------------+----------------------+\n",
            "| GPU  Name        Persistence-M| Bus-Id        Disp.A | Volatile Uncorr. ECC |\n",
            "| Fan  Temp  Perf  Pwr:Usage/Cap|         Memory-Usage | GPU-Util  Compute M. |\n",
            "|                               |                      |               MIG M. |\n",
            "|===============================+======================+======================|\n",
            "|   0  Tesla K80           Off  | 00000000:00:04.0 Off |                    0 |\n",
            "| N/A   49C    P8    32W / 149W |      0MiB / 11441MiB |      0%      Default |\n",
            "|                               |                      |                 ERR! |\n",
            "+-------------------------------+----------------------+----------------------+\n",
            "                                                                               \n",
            "+-----------------------------------------------------------------------------+\n",
            "| Processes:                                                                  |\n",
            "|  GPU   GI   CI        PID   Type   Process name                  GPU Memory |\n",
            "|        ID   ID                                                   Usage      |\n",
            "|=============================================================================|\n",
            "|  No running processes found                                                 |\n",
            "+-----------------------------------------------------------------------------+\n"
          ],
          "name": "stdout"
        }
      ]
    },
    {
      "cell_type": "code",
      "metadata": {
        "id": "VDbyaAJyuUoI",
        "colab_type": "code",
        "colab": {}
      },
      "source": [
        "import torch\n",
        "import random\n",
        "import numpy as np\n",
        "from pathlib import Path\n",
        "from sklearn.preprocessing import LabelEncoder\n",
        "from sklearn.model_selection import StratifiedKFold\n",
        "from sklearn.metrics import accuracy_score\n",
        "from torch.utils.data import DataLoader\n",
        "from torch import nn\n",
        "import matplotlib.pyplot as plt\n",
        "import os\n",
        "from training import train, predict, DistillationLoss\n",
        "from models import *\n",
        "from datasets import ImageDataset"
      ],
      "execution_count": 4,
      "outputs": []
    },
    {
      "cell_type": "code",
      "metadata": {
        "id": "ctMt8--quUoN",
        "colab_type": "code",
        "colab": {
          "base_uri": "https://localhost:8080/",
          "height": 34
        },
        "outputId": "d5f09430-4ed6-497b-ffd2-db9ce4406096"
      },
      "source": [
        "\"\"\"\n",
        "Define globals and seed whatever I can seed\n",
        "\"\"\"\n",
        "def seed_everything(seed):\n",
        "    random.seed(seed)\n",
        "    np.random.seed(seed)\n",
        "    torch.manual_seed(seed)\n",
        "    torch.cuda.manual_seed(seed)\n",
        "    torch.backends.cudnn.deterministic = True\n",
        "\n",
        "train_on_gpu = torch.cuda.is_available()\n",
        "if not train_on_gpu:\n",
        "    print('Training on CPU')\n",
        "    DEVICE = torch.device(\"cpu\")\n",
        "else:\n",
        "    print('Training on GPU')\n",
        "    DEVICE = torch.device(\"cuda\")\n",
        "\n",
        "SEED = 0\n",
        "seed_everything(SEED)\n",
        "\n",
        "TRAIN_DIR = Path('./imagewoof2-320/train')\n",
        "TEST_DIR = Path('./imagewoof2-320/val')\n",
        "\n",
        "train_val_files = sorted(list(TRAIN_DIR.rglob('*.JPEG')))\n",
        "test_files = sorted(list(TEST_DIR.rglob('*.JPEG')))\n",
        "\n",
        "train_val_labels = [path.parent.name for path in train_val_files]\n",
        "LABEL_ENCODER = LabelEncoder()\n",
        "LABEL_ENCODER.fit(train_val_labels)\n",
        "\n",
        "N_CLASSES = LABEL_ENCODER.classes_.shape[0]"
      ],
      "execution_count": 5,
      "outputs": [
        {
          "output_type": "stream",
          "text": [
            "Training on GPU\n"
          ],
          "name": "stdout"
        }
      ]
    },
    {
      "cell_type": "code",
      "metadata": {
        "id": "2YekGHZLYjqu",
        "colab_type": "code",
        "colab": {}
      },
      "source": [
        "def plot_training_history(history):\n",
        "    fig, ax = plt.subplots(1, 2, figsize=(20, 5))\n",
        "    ax = ax.flatten()\n",
        "\n",
        "    ax[0].plot(history[:, 0], label=\"Train\")\n",
        "    ax[0].plot(history[:, 2], label=\"Val\")\n",
        "    ax[0].set_xlabel(\"Epoch\")\n",
        "    ax[0].set_ylabel(\"Loss\")\n",
        "    ax[0].legend()\n",
        "    ax[0].grid()\n",
        "\n",
        "    ax[1].plot(history[:, 1], label=\"Train\")\n",
        "    ax[1].plot(history[:, 3], label=\"Val\")\n",
        "    ax[1].set_xlabel(\"Epoch\")\n",
        "    ax[1].set_ylabel(\"Accuracy\")\n",
        "    ax[1].legend()\n",
        "    ax[1].grid()\n",
        "\n",
        "    plt.show()"
      ],
      "execution_count": 6,
      "outputs": []
    },
    {
      "cell_type": "markdown",
      "metadata": {
        "id": "G9pudT66uUoT",
        "colab_type": "text"
      },
      "source": [
        "### 4.1. Выбор и обучение модели-учителя\n",
        "\n",
        "Учитель - Resnet101. Я добавил два скрытых полносвязных слоя по 2048 юнитов. Такая модель явно избыточна, очень быстро переобучается и требует адский дропаут ($p=0.95$), чтобы не переобучиться и показать хорошие результаты на валидационной выборке. При обучении этой модели я также задействовал сильные аугментации.\n",
        "\n",
        "Для дальнейших экспериментов (например, с размером обучающей выборки для модели-студента) могут понадобиться предсказания учителя на всей обучающей выборке. Чтобы не допустить утечки данных я использую 1x4 кроссвалидацию со стратификацией по классам, итоговые предсказания - это out-of-fold предсказания моделей-учителей, соответствующих разным фолдам. Таким образом, для получения предсказаний на всём датасете нужно обучить учителя целых 4 раза, зато после этого можно надолго о нём забыть и заняться непосредственно KD."
      ]
    },
    {
      "cell_type": "code",
      "metadata": {
        "id": "so2La_YjuUoU",
        "colab_type": "code",
        "colab": {
          "base_uri": "https://localhost:8080/",
          "height": 1000,
          "referenced_widgets": [
            "c30954fdc0ef431a8a02e5a7c23691f7",
            "fee75ed77f0a44bf8d0d32eeed07fa6a",
            "e7312f15a5a044d3ab736a193776038e",
            "f7c90ff6273f42d4ac04524a9804cdb0",
            "0e6f1366516c4466898f66d5ed3b4636",
            "292d83706d1e4f899407849a3b9eec57",
            "7f8ab8dc9e38412980e6c0d0942c2b73",
            "92e1a14c232048cf84152ef9d52b0f63"
          ]
        },
        "outputId": "2a20c9b4-12a4-4106-8129-858e12b36727"
      },
      "source": [
        "N_SPLITS = 4\n",
        "\n",
        "seed_everything(SEED)\n",
        "\n",
        "cv = StratifiedKFold(n_splits=N_SPLITS, shuffle=True, random_state=SEED)\n",
        "ground = np.array(ImageDataset(train_val_files, LABEL_ENCODER).labels)\n",
        "\n",
        "# Array for storing OOF logits\n",
        "oof_logits = np.empty((len(train_val_files), N_CLASSES), float)\n",
        "\n",
        "labels = LABEL_ENCODER.transform(train_val_labels)\n",
        "\n",
        "test_dataset = ImageDataset(test_files, LABEL_ENCODER)\n",
        "test_loader = DataLoader(test_dataset, shuffle=False, batch_size=64)\n",
        "\n",
        "# Array for storing test dataset logits\n",
        "test_logits = np.zeros((len(test_dataset), N_CLASSES), float)\n",
        "\n",
        "for fold, (train_idx, val_idx) in enumerate(cv.split(train_val_files, labels)):\n",
        "    print('Training on fold', fold + 1)\n",
        "\n",
        "    val_dataset = ImageDataset(np.array(train_val_files)[val_idx], LABEL_ENCODER)\n",
        "    train_dataset = ImageDataset(np.array(train_val_files)[train_idx], LABEL_ENCODER, augs=True)\n",
        "    \n",
        "    model = resnet101_teacher(N_CLASSES, DEVICE)\n",
        "    opt = torch.optim.Adam(model.parameters(), lr=0.0003)\n",
        "    criterion = nn.CrossEntropyLoss()\n",
        "    history = train(train_dataset, val_dataset, model=model, epochs=20,\n",
        "                              batch_size=64, device=DEVICE, opt=opt, criterion=criterion)\n",
        "    \n",
        "    val_loader = DataLoader(val_dataset, shuffle=False, batch_size=64)\n",
        "    labels_val = ground[val_idx]\n",
        "    \n",
        "    logits_val = predict(model, val_loader, DEVICE, logit=True)\n",
        "    oof_logits[val_idx] = logits_val\n",
        "    preds_val = np.argmax(logits_val, axis=1)\n",
        "    \n",
        "    # Prediction on test set is an average of N_SPLITS models\n",
        "    test_logits += predict(model, test_loader, DEVICE, logit=True)/N_SPLITS\n",
        "    \n",
        "    print(f'Fold {fold + 1} accuracy score:', accuracy_score(labels_val, preds_val))\n",
        "\n",
        "oof_preds = np.argmax(oof_logits, axis=1)\n",
        "print('OOF accuracy score:', accuracy_score(ground, oof_preds))\n",
        "\n",
        "# Save results\n",
        "os.makedirs(\"./dark_knowledge\", exist_ok=True)\n",
        "np.save(\"./dark_knowledge/resnet101_train_imagewoof.npy\", oof_logits)\n",
        "np.save(\"./dark_knowledge/resnet101_test_imagewoof.npy\", test_logits)"
      ],
      "execution_count": null,
      "outputs": [
        {
          "output_type": "stream",
          "text": [
            "Training on fold 1\n"
          ],
          "name": "stdout"
        },
        {
          "output_type": "stream",
          "text": [
            "Downloading: \"https://download.pytorch.org/models/resnet101-5d3b4d8f.pth\" to /root/.cache/torch/hub/checkpoints/resnet101-5d3b4d8f.pth\n"
          ],
          "name": "stderr"
        },
        {
          "output_type": "display_data",
          "data": {
            "application/vnd.jupyter.widget-view+json": {
              "model_id": "c30954fdc0ef431a8a02e5a7c23691f7",
              "version_minor": 0,
              "version_major": 2
            },
            "text/plain": [
              "HBox(children=(FloatProgress(value=0.0, max=178728960.0), HTML(value='')))"
            ]
          },
          "metadata": {
            "tags": []
          }
        },
        {
          "output_type": "stream",
          "text": [
            "\n",
            "Epoch: 1, train_loss: 2.7789, val_loss: 2.2556, train_acc: 0.1169, val_acc: 0.4909\n",
            "Epoch: 2, train_loss: 1.4866, val_loss: 0.3981, train_acc: 0.8110, val_acc: 0.9287\n",
            "Epoch: 3, train_loss: 0.3152, val_loss: 0.1820, train_acc: 0.9171, val_acc: 0.9508\n",
            "Epoch: 4, train_loss: 0.2247, val_loss: 0.1467, train_acc: 0.9283, val_acc: 0.9526\n",
            "Epoch: 5, train_loss: 0.2064, val_loss: 0.1502, train_acc: 0.9334, val_acc: 0.9508\n",
            "Epoch: 6, train_loss: 0.1928, val_loss: 0.1603, train_acc: 0.9363, val_acc: 0.9508\n",
            "Epoch: 7, train_loss: 0.1980, val_loss: 0.1505, train_acc: 0.9334, val_acc: 0.9504\n",
            "Epoch: 8, train_loss: 0.1854, val_loss: 0.1447, train_acc: 0.9390, val_acc: 0.9530\n",
            "Epoch: 9, train_loss: 0.1907, val_loss: 0.1441, train_acc: 0.9408, val_acc: 0.9535\n",
            "Epoch: 10, train_loss: 0.1836, val_loss: 0.1380, train_acc: 0.9387, val_acc: 0.9548\n",
            "Epoch: 11, train_loss: 0.1729, val_loss: 0.1338, train_acc: 0.9399, val_acc: 0.9592\n",
            "Epoch: 12, train_loss: 0.1752, val_loss: 0.1391, train_acc: 0.9424, val_acc: 0.9526\n",
            "Epoch: 13, train_loss: 0.1766, val_loss: 0.1249, train_acc: 0.9402, val_acc: 0.9606\n",
            "Epoch: 14, train_loss: 0.1667, val_loss: 0.1506, train_acc: 0.9459, val_acc: 0.9495\n",
            "Epoch: 15, train_loss: 0.1794, val_loss: 0.1475, train_acc: 0.9374, val_acc: 0.9504\n",
            "Epoch: 16, train_loss: 0.1621, val_loss: 0.1456, train_acc: 0.9428, val_acc: 0.9504\n",
            "Epoch: 17, train_loss: 0.1629, val_loss: 0.1437, train_acc: 0.9440, val_acc: 0.9517\n",
            "Epoch: 18, train_loss: 0.1544, val_loss: 0.1350, train_acc: 0.9465, val_acc: 0.9548\n",
            "Epoch: 19, train_loss: 0.1704, val_loss: 0.1347, train_acc: 0.9409, val_acc: 0.9526\n",
            "Epoch: 20, train_loss: 0.1614, val_loss: 0.1362, train_acc: 0.9431, val_acc: 0.9530\n",
            "Fold 1 accuracy score: 0.9530350022153301\n",
            "Training on fold 2\n",
            "Epoch: 1, train_loss: 2.8260, val_loss: 2.2564, train_acc: 0.1130, val_acc: 0.5674\n",
            "Epoch: 2, train_loss: 1.5057, val_loss: 0.3894, train_acc: 0.7709, val_acc: 0.9277\n",
            "Epoch: 3, train_loss: 0.3192, val_loss: 0.1707, train_acc: 0.9084, val_acc: 0.9495\n",
            "Epoch: 4, train_loss: 0.2329, val_loss: 0.1342, train_acc: 0.9255, val_acc: 0.9592\n",
            "Epoch: 5, train_loss: 0.2043, val_loss: 0.1245, train_acc: 0.9337, val_acc: 0.9645\n",
            "Epoch: 6, train_loss: 0.1977, val_loss: 0.1245, train_acc: 0.9353, val_acc: 0.9592\n",
            "Epoch: 7, train_loss: 0.1974, val_loss: 0.1038, train_acc: 0.9320, val_acc: 0.9659\n",
            "Epoch: 8, train_loss: 0.1882, val_loss: 0.1041, train_acc: 0.9368, val_acc: 0.9681\n",
            "Epoch: 9, train_loss: 0.2032, val_loss: 0.1292, train_acc: 0.9320, val_acc: 0.9570\n",
            "Epoch: 10, train_loss: 0.1875, val_loss: 0.1150, train_acc: 0.9354, val_acc: 0.9614\n",
            "Epoch: 11, train_loss: 0.2072, val_loss: 0.1193, train_acc: 0.9341, val_acc: 0.9610\n",
            "Epoch: 12, train_loss: 0.1753, val_loss: 0.1276, train_acc: 0.9391, val_acc: 0.9526\n",
            "Epoch: 13, train_loss: 0.1796, val_loss: 0.1210, train_acc: 0.9387, val_acc: 0.9610\n",
            "Epoch: 14, train_loss: 0.1780, val_loss: 0.1192, train_acc: 0.9394, val_acc: 0.9614\n",
            "Epoch: 15, train_loss: 0.1827, val_loss: 0.1063, train_acc: 0.9388, val_acc: 0.9659\n",
            "Epoch: 16, train_loss: 0.1662, val_loss: 0.1082, train_acc: 0.9442, val_acc: 0.9623\n",
            "Epoch: 17, train_loss: 0.1748, val_loss: 0.1220, train_acc: 0.9384, val_acc: 0.9610\n",
            "Epoch: 18, train_loss: 0.1713, val_loss: 0.1158, train_acc: 0.9440, val_acc: 0.9659\n",
            "Epoch    19: reducing learning rate of group 0 to 9.0000e-05.\n",
            "Epoch: 19, train_loss: 0.1641, val_loss: 0.1224, train_acc: 0.9422, val_acc: 0.9610\n",
            "Epoch: 20, train_loss: 0.1437, val_loss: 0.1026, train_acc: 0.9489, val_acc: 0.9645\n",
            "Fold 2 accuracy score: 0.9645390070921985\n",
            "Training on fold 3\n",
            "Epoch: 1, train_loss: 2.7959, val_loss: 2.2459, train_acc: 0.1194, val_acc: 0.3564\n",
            "Epoch: 2, train_loss: 1.4519, val_loss: 0.3574, train_acc: 0.7681, val_acc: 0.9490\n",
            "Epoch: 3, train_loss: 0.3051, val_loss: 0.1763, train_acc: 0.9161, val_acc: 0.9512\n",
            "Epoch: 4, train_loss: 0.2319, val_loss: 0.1377, train_acc: 0.9254, val_acc: 0.9579\n",
            "Epoch: 5, train_loss: 0.2233, val_loss: 0.1530, train_acc: 0.9282, val_acc: 0.9504\n",
            "Epoch: 6, train_loss: 0.2124, val_loss: 0.1349, train_acc: 0.9301, val_acc: 0.9583\n",
            "Epoch: 7, train_loss: 0.1965, val_loss: 0.1339, train_acc: 0.9329, val_acc: 0.9601\n",
            "Epoch: 8, train_loss: 0.1930, val_loss: 0.1445, train_acc: 0.9328, val_acc: 0.9539\n",
            "Epoch: 9, train_loss: 0.1935, val_loss: 0.1457, train_acc: 0.9343, val_acc: 0.9543\n",
            "Epoch: 10, train_loss: 0.1892, val_loss: 0.1666, train_acc: 0.9344, val_acc: 0.9512\n",
            "Epoch: 11, train_loss: 0.1777, val_loss: 0.1353, train_acc: 0.9414, val_acc: 0.9548\n",
            "Epoch: 12, train_loss: 0.1691, val_loss: 0.1503, train_acc: 0.9403, val_acc: 0.9517\n",
            "Epoch: 13, train_loss: 0.1782, val_loss: 0.1309, train_acc: 0.9385, val_acc: 0.9597\n",
            "Epoch: 14, train_loss: 0.1760, val_loss: 0.1381, train_acc: 0.9430, val_acc: 0.9574\n",
            "Epoch: 15, train_loss: 0.1651, val_loss: 0.1471, train_acc: 0.9431, val_acc: 0.9557\n",
            "Epoch: 16, train_loss: 0.1722, val_loss: 0.1289, train_acc: 0.9422, val_acc: 0.9574\n",
            "Epoch: 17, train_loss: 0.1737, val_loss: 0.1663, train_acc: 0.9411, val_acc: 0.9459\n",
            "Epoch    18: reducing learning rate of group 0 to 9.0000e-05.\n",
            "Epoch: 18, train_loss: 0.1677, val_loss: 0.1264, train_acc: 0.9453, val_acc: 0.9592\n",
            "Epoch: 19, train_loss: 0.1441, val_loss: 0.1219, train_acc: 0.9527, val_acc: 0.9588\n",
            "Epoch: 20, train_loss: 0.1338, val_loss: 0.1249, train_acc: 0.9527, val_acc: 0.9632\n",
            "Fold 3 accuracy score: 0.963209219858156\n",
            "Training on fold 4\n",
            "Epoch: 1, train_loss: 2.7867, val_loss: 2.2422, train_acc: 0.1158, val_acc: 0.7074\n",
            "Epoch: 2, train_loss: 1.4405, val_loss: 0.3659, train_acc: 0.8131, val_acc: 0.9207\n",
            "Epoch: 3, train_loss: 0.3105, val_loss: 0.2037, train_acc: 0.9174, val_acc: 0.9335\n",
            "Epoch: 4, train_loss: 0.2356, val_loss: 0.1487, train_acc: 0.9235, val_acc: 0.9552\n",
            "Epoch: 5, train_loss: 0.2258, val_loss: 0.1390, train_acc: 0.9239, val_acc: 0.9543\n",
            "Epoch: 6, train_loss: 0.2045, val_loss: 0.1319, train_acc: 0.9325, val_acc: 0.9588\n",
            "Epoch: 7, train_loss: 0.2040, val_loss: 0.1624, train_acc: 0.9301, val_acc: 0.9499\n",
            "Epoch: 8, train_loss: 0.1919, val_loss: 0.1331, train_acc: 0.9388, val_acc: 0.9570\n",
            "Epoch: 9, train_loss: 0.1900, val_loss: 0.1295, train_acc: 0.9388, val_acc: 0.9623\n",
            "Epoch: 10, train_loss: 0.1890, val_loss: 0.1324, train_acc: 0.9357, val_acc: 0.9583\n",
            "Epoch: 11, train_loss: 0.1872, val_loss: 0.1247, train_acc: 0.9344, val_acc: 0.9610\n",
            "Epoch: 12, train_loss: 0.1831, val_loss: 0.1165, train_acc: 0.9387, val_acc: 0.9650\n",
            "Epoch: 13, train_loss: 0.1845, val_loss: 0.1103, train_acc: 0.9344, val_acc: 0.9663\n",
            "Epoch: 14, train_loss: 0.1738, val_loss: 0.1273, train_acc: 0.9391, val_acc: 0.9614\n",
            "Epoch: 15, train_loss: 0.1778, val_loss: 0.1346, train_acc: 0.9393, val_acc: 0.9561\n",
            "Epoch: 16, train_loss: 0.1644, val_loss: 0.1305, train_acc: 0.9443, val_acc: 0.9592\n",
            "Epoch: 17, train_loss: 0.1645, val_loss: 0.1184, train_acc: 0.9467, val_acc: 0.9623\n",
            "Epoch: 18, train_loss: 0.1646, val_loss: 0.1308, train_acc: 0.9397, val_acc: 0.9579\n",
            "Epoch: 19, train_loss: 0.1623, val_loss: 0.1358, train_acc: 0.9449, val_acc: 0.9614\n",
            "Epoch: 20, train_loss: 0.1656, val_loss: 0.1290, train_acc: 0.9406, val_acc: 0.9566\n",
            "Fold 4 accuracy score: 0.9565602836879432\n",
            "OOF accuracy score: 0.9593351800554016\n"
          ],
          "name": "stdout"
        }
      ]
    },
    {
      "cell_type": "markdown",
      "metadata": {
        "id": "6GWUWmkguUoZ",
        "colab_type": "text"
      },
      "source": [
        "У датасета Imagewoof есть собственный [leaderboard](https://github.com/fastai/imagenette#imagewoof-leaderboard). Можно видеть, что наш учитель выдаёт неплохие результаты. Точность выше, чем у представленных там моделей, так как у моей модели предобученные веса."
      ]
    },
    {
      "cell_type": "markdown",
      "metadata": {
        "id": "EVF-TrmkuUoa",
        "colab_type": "text"
      },
      "source": [
        "### 4.2. Модель-студент. Дистилляция знаний\n",
        "\n",
        "Студент - Resnet18 с двумя дополнительными скрытыми полносвязными слоями по 128 юнитов. При обучении этой модели я не задействую ни дропауты, ни аугментации. Спойлер: это необходимо, потому что эффект от KD в этой задаче очень маленький, и чтобы его обнаружить, нужно исключить все прочие факторы, влияющие на качество модели."
      ]
    },
    {
      "cell_type": "code",
      "metadata": {
        "id": "ZtaZGNFRuUob",
        "colab_type": "code",
        "colab": {
          "base_uri": "https://localhost:8080/",
          "height": 1000,
          "referenced_widgets": [
            "9b0041522d2b47f9b930bce342c79444",
            "55c09ebacd7b4955a531f80ab017edec",
            "b44564a8110943e8b677669ad1b2b201",
            "c6f584f8ab66478582118279550a8c61",
            "14440a03e0344429b83c4a09eda7e631",
            "b54de2a053694f9b82d15990b6dc4425",
            "ded04a2b3cc6439189ed1f08e4ed32c5",
            "4807071d982746158eb4e22652156cb5"
          ]
        },
        "outputId": "09d91fbe-31a7-4a6d-cab3-97b255e16890"
      },
      "source": [
        "os.makedirs(\"./experiments/hyperparams\", exist_ok=True)\n",
        "seed_everything(SEED)\n",
        "\n",
        "resnet18 = resnet18_student2(N_CLASSES, DEVICE)\n",
        "trainable = get_number_of_params(resnet18, trainable=True)\n",
        "total = get_number_of_params(resnet18, trainable=False)\n",
        "print(f\"{trainable} (of {total}) trainable params\")\n",
        "train_dataset = ImageDataset(train_val_files, LABEL_ENCODER, teacher_labels=\"./dark_knowledge/resnet101_train_imagewoof.npy\")\n",
        "test_dataset = ImageDataset(test_files, LABEL_ENCODER, teacher_labels=\"./dark_knowledge/resnet101_test_imagewoof.npy\")\n",
        "opt = torch.optim.Adam(resnet18.parameters(), lr=0.0003)\n",
        "criterion = DistillationLoss(alpha=0.1, temperature=4.0)\n",
        "history_resnet18 = train(train_dataset, test_dataset, resnet18, 50, 64, DEVICE, opt, criterion)\n",
        "plot_training_history(history_resnet18)\n",
        "np.save(f\"./experiments/hyperparams/history_resnet18_T_4.0_alpha_0.1.npy\", history_resnet18)"
      ],
      "execution_count": 7,
      "outputs": [
        {
          "output_type": "stream",
          "text": [
            "Downloading: \"https://download.pytorch.org/models/resnet18-5c106cde.pth\" to /root/.cache/torch/hub/checkpoints/resnet18-5c106cde.pth\n"
          ],
          "name": "stderr"
        },
        {
          "output_type": "display_data",
          "data": {
            "application/vnd.jupyter.widget-view+json": {
              "model_id": "9b0041522d2b47f9b930bce342c79444",
              "version_minor": 0,
              "version_major": 2
            },
            "text/plain": [
              "HBox(children=(FloatProgress(value=0.0, max=46827520.0), HTML(value='')))"
            ]
          },
          "metadata": {
            "tags": []
          }
        },
        {
          "output_type": "stream",
          "text": [
            "\n",
            "83466 (of 11259978) trainable params\n"
          ],
          "name": "stdout"
        },
        {
          "output_type": "stream",
          "text": [
            "/usr/local/lib/python3.6/dist-packages/torch/nn/functional.py:2352: UserWarning: reduction: 'mean' divides the total loss by both the batch size and the support size.'batchmean' divides only by the batch size, and aligns with the KL div math definition.'mean' will be changed to behave the same as 'batchmean' in the next major release.\n",
            "  warnings.warn(\"reduction: 'mean' divides the total loss by both the batch size and the support size.\"\n"
          ],
          "name": "stderr"
        },
        {
          "output_type": "stream",
          "text": [
            "Epoch: 1, train_loss: 0.8607, val_loss: 0.2750, train_acc: 0.7413, val_acc: 0.8717\n",
            "Epoch: 2, train_loss: 0.2139, val_loss: 0.1736, train_acc: 0.9053, val_acc: 0.9114\n",
            "Epoch: 3, train_loss: 0.1585, val_loss: 0.1462, train_acc: 0.9278, val_acc: 0.9226\n",
            "Epoch: 4, train_loss: 0.1404, val_loss: 0.1343, train_acc: 0.9354, val_acc: 0.9247\n",
            "Epoch: 5, train_loss: 0.1311, val_loss: 0.1304, train_acc: 0.9375, val_acc: 0.9285\n",
            "Epoch: 6, train_loss: 0.1248, val_loss: 0.1250, train_acc: 0.9427, val_acc: 0.9305\n",
            "Epoch: 7, train_loss: 0.1199, val_loss: 0.1295, train_acc: 0.9433, val_acc: 0.9257\n",
            "Epoch: 8, train_loss: 0.1226, val_loss: 0.1219, train_acc: 0.9422, val_acc: 0.9259\n",
            "Epoch: 9, train_loss: 0.1127, val_loss: 0.1220, train_acc: 0.9466, val_acc: 0.9292\n",
            "Epoch: 10, train_loss: 0.1092, val_loss: 0.1167, train_acc: 0.9493, val_acc: 0.9300\n",
            "Epoch: 11, train_loss: 0.1066, val_loss: 0.1148, train_acc: 0.9506, val_acc: 0.9305\n",
            "Epoch: 12, train_loss: 0.1040, val_loss: 0.1171, train_acc: 0.9514, val_acc: 0.9295\n",
            "Epoch: 13, train_loss: 0.1022, val_loss: 0.1161, train_acc: 0.9522, val_acc: 0.9270\n",
            "Epoch: 14, train_loss: 0.1005, val_loss: 0.1166, train_acc: 0.9536, val_acc: 0.9295\n",
            "Epoch: 15, train_loss: 0.0984, val_loss: 0.1154, train_acc: 0.9547, val_acc: 0.9287\n",
            "Epoch: 16, train_loss: 0.0965, val_loss: 0.1128, train_acc: 0.9539, val_acc: 0.9305\n",
            "Epoch    17: reducing learning rate of group 0 to 9.0000e-05.\n",
            "Epoch: 17, train_loss: 0.0944, val_loss: 0.1134, train_acc: 0.9559, val_acc: 0.9295\n",
            "Epoch: 18, train_loss: 0.0906, val_loss: 0.1106, train_acc: 0.9591, val_acc: 0.9298\n",
            "Epoch: 19, train_loss: 0.0898, val_loss: 0.1116, train_acc: 0.9598, val_acc: 0.9300\n",
            "Epoch: 20, train_loss: 0.0893, val_loss: 0.1112, train_acc: 0.9589, val_acc: 0.9298\n",
            "Epoch: 21, train_loss: 0.0891, val_loss: 0.1102, train_acc: 0.9593, val_acc: 0.9295\n",
            "Epoch: 22, train_loss: 0.0896, val_loss: 0.1108, train_acc: 0.9603, val_acc: 0.9285\n",
            "Epoch: 23, train_loss: 0.0883, val_loss: 0.1099, train_acc: 0.9600, val_acc: 0.9298\n",
            "Epoch: 24, train_loss: 0.0873, val_loss: 0.1101, train_acc: 0.9617, val_acc: 0.9310\n",
            "Epoch: 25, train_loss: 0.0870, val_loss: 0.1099, train_acc: 0.9610, val_acc: 0.9298\n",
            "Epoch: 26, train_loss: 0.0867, val_loss: 0.1099, train_acc: 0.9611, val_acc: 0.9315\n",
            "Epoch: 27, train_loss: 0.0861, val_loss: 0.1097, train_acc: 0.9619, val_acc: 0.9308\n",
            "Epoch: 28, train_loss: 0.0855, val_loss: 0.1097, train_acc: 0.9621, val_acc: 0.9323\n",
            "Epoch: 29, train_loss: 0.0850, val_loss: 0.1099, train_acc: 0.9622, val_acc: 0.9303\n",
            "Epoch: 30, train_loss: 0.0844, val_loss: 0.1097, train_acc: 0.9624, val_acc: 0.9315\n",
            "Epoch: 31, train_loss: 0.0840, val_loss: 0.1099, train_acc: 0.9631, val_acc: 0.9318\n",
            "Epoch: 32, train_loss: 0.0837, val_loss: 0.1092, train_acc: 0.9642, val_acc: 0.9310\n",
            "Epoch: 33, train_loss: 0.0833, val_loss: 0.1101, train_acc: 0.9640, val_acc: 0.9295\n",
            "Epoch: 34, train_loss: 0.0832, val_loss: 0.1094, train_acc: 0.9638, val_acc: 0.9303\n",
            "Epoch: 35, train_loss: 0.0824, val_loss: 0.1095, train_acc: 0.9648, val_acc: 0.9310\n",
            "Epoch: 36, train_loss: 0.0817, val_loss: 0.1092, train_acc: 0.9651, val_acc: 0.9308\n",
            "Epoch: 37, train_loss: 0.0815, val_loss: 0.1092, train_acc: 0.9645, val_acc: 0.9310\n",
            "Epoch: 38, train_loss: 0.0811, val_loss: 0.1092, train_acc: 0.9645, val_acc: 0.9313\n",
            "Epoch    39: reducing learning rate of group 0 to 2.7000e-05.\n",
            "Epoch: 39, train_loss: 0.0806, val_loss: 0.1095, train_acc: 0.9654, val_acc: 0.9308\n",
            "Epoch: 40, train_loss: 0.0792, val_loss: 0.1091, train_acc: 0.9664, val_acc: 0.9292\n",
            "Epoch: 41, train_loss: 0.0790, val_loss: 0.1086, train_acc: 0.9664, val_acc: 0.9300\n",
            "Epoch: 42, train_loss: 0.0789, val_loss: 0.1092, train_acc: 0.9670, val_acc: 0.9292\n",
            "Epoch: 43, train_loss: 0.0792, val_loss: 0.1086, train_acc: 0.9647, val_acc: 0.9298\n",
            "Epoch: 44, train_loss: 0.0786, val_loss: 0.1089, train_acc: 0.9665, val_acc: 0.9298\n",
            "Epoch: 45, train_loss: 0.0785, val_loss: 0.1087, train_acc: 0.9669, val_acc: 0.9305\n",
            "Epoch: 46, train_loss: 0.0783, val_loss: 0.1088, train_acc: 0.9665, val_acc: 0.9298\n",
            "Epoch: 47, train_loss: 0.0786, val_loss: 0.1089, train_acc: 0.9654, val_acc: 0.9305\n",
            "Epoch: 48, train_loss: 0.0782, val_loss: 0.1089, train_acc: 0.9666, val_acc: 0.9295\n",
            "Epoch: 49, train_loss: 0.0780, val_loss: 0.1088, train_acc: 0.9663, val_acc: 0.9290\n",
            "Epoch    50: reducing learning rate of group 0 to 8.1000e-06.\n",
            "Epoch: 50, train_loss: 0.0779, val_loss: 0.1088, train_acc: 0.9660, val_acc: 0.9303\n"
          ],
          "name": "stdout"
        },
        {
          "output_type": "display_data",
          "data": {
            "image/png": "[encoded data removed]",
            "text/plain": [
              "<Figure size 1440x360 with 2 Axes>"
            ]
          },
          "metadata": {
            "tags": [],
            "needs_background": "light"
          }
        }
      ]
    },
    {
      "cell_type": "markdown",
      "metadata": {
        "id": "NvVIkcyguUog",
        "colab_type": "text"
      },
      "source": [
        "### 4.3. Обучение без помощи учителя и сравнение результатов\n",
        "\n",
        "Повторим процедуру предыдущего пункта, только без использования меток модели-учителя."
      ]
    },
    {
      "cell_type": "code",
      "metadata": {
        "id": "BhUo7QQuuUog",
        "colab_type": "code",
        "colab": {
          "base_uri": "https://localhost:8080/",
          "height": 1000
        },
        "outputId": "735250cf-16c5-496c-befe-27ec827aad85"
      },
      "source": [
        "os.makedirs(\"./experiments/hyperparams\", exist_ok=True)\n",
        "seed_everything(SEED)\n",
        "\n",
        "resnet18 = resnet18_student2(N_CLASSES, DEVICE)\n",
        "trainable = get_number_of_params(resnet18, trainable=True)\n",
        "total = get_number_of_params(resnet18, trainable=False)\n",
        "print(f\"{trainable} (of {total}) trainable params\")\n",
        "train_dataset = ImageDataset(train_val_files, LABEL_ENCODER)\n",
        "test_dataset = ImageDataset(test_files, LABEL_ENCODER)\n",
        "opt = torch.optim.Adam(resnet18.parameters(), lr=0.0003)\n",
        "criterion = nn.CrossEntropyLoss()\n",
        "history_resnet18_no_teacher = train(train_dataset, test_dataset, resnet18, 50, 64, DEVICE, opt, criterion)\n",
        "plot_training_history(history_resnet18_no_teacher)\n",
        "np.save(f\"./experiments/hyperparams/history_resnet18_no_teacher.npy\", history_resnet18_no_teacher)"
      ],
      "execution_count": 9,
      "outputs": [
        {
          "output_type": "stream",
          "text": [
            "83466 (of 11259978) trainable params\n",
            "Epoch: 1, train_loss: 1.0286, val_loss: 0.3848, train_acc: 0.7910, val_acc: 0.8865\n",
            "Epoch: 2, train_loss: 0.3042, val_loss: 0.2811, train_acc: 0.9128, val_acc: 0.9160\n",
            "Epoch: 3, train_loss: 0.2299, val_loss: 0.2711, train_acc: 0.9325, val_acc: 0.9119\n",
            "Epoch: 4, train_loss: 0.2032, val_loss: 0.2466, train_acc: 0.9385, val_acc: 0.9247\n",
            "Epoch: 5, train_loss: 0.1877, val_loss: 0.2358, train_acc: 0.9418, val_acc: 0.9262\n",
            "Epoch: 6, train_loss: 0.1754, val_loss: 0.2392, train_acc: 0.9433, val_acc: 0.9254\n",
            "Epoch: 7, train_loss: 0.1646, val_loss: 0.2611, train_acc: 0.9463, val_acc: 0.9140\n",
            "Epoch: 8, train_loss: 0.1880, val_loss: 0.2297, train_acc: 0.9407, val_acc: 0.9282\n",
            "Epoch: 9, train_loss: 0.1503, val_loss: 0.2324, train_acc: 0.9531, val_acc: 0.9252\n",
            "Epoch: 10, train_loss: 0.1371, val_loss: 0.2362, train_acc: 0.9571, val_acc: 0.9247\n",
            "Epoch: 11, train_loss: 0.1331, val_loss: 0.2358, train_acc: 0.9573, val_acc: 0.9254\n",
            "Epoch: 12, train_loss: 0.1313, val_loss: 0.2384, train_acc: 0.9586, val_acc: 0.9264\n",
            "Epoch: 13, train_loss: 0.1223, val_loss: 0.2537, train_acc: 0.9606, val_acc: 0.9231\n",
            "Epoch: 14, train_loss: 0.1196, val_loss: 0.2369, train_acc: 0.9627, val_acc: 0.9270\n",
            "Epoch: 15, train_loss: 0.1125, val_loss: 0.2476, train_acc: 0.9659, val_acc: 0.9231\n",
            "Epoch: 16, train_loss: 0.1083, val_loss: 0.2434, train_acc: 0.9645, val_acc: 0.9254\n",
            "Epoch: 17, train_loss: 0.1031, val_loss: 0.2581, train_acc: 0.9673, val_acc: 0.9242\n",
            "Epoch: 18, train_loss: 0.1072, val_loss: 0.2462, train_acc: 0.9664, val_acc: 0.9254\n",
            "Epoch    19: reducing learning rate of group 0 to 9.0000e-05.\n",
            "Epoch: 19, train_loss: 0.0939, val_loss: 0.2577, train_acc: 0.9716, val_acc: 0.9249\n",
            "Epoch: 20, train_loss: 0.0792, val_loss: 0.2429, train_acc: 0.9774, val_acc: 0.9267\n",
            "Epoch: 21, train_loss: 0.0778, val_loss: 0.2468, train_acc: 0.9798, val_acc: 0.9280\n",
            "Epoch: 22, train_loss: 0.0763, val_loss: 0.2489, train_acc: 0.9804, val_acc: 0.9275\n",
            "Epoch: 23, train_loss: 0.0752, val_loss: 0.2477, train_acc: 0.9785, val_acc: 0.9275\n",
            "Epoch: 24, train_loss: 0.0736, val_loss: 0.2516, train_acc: 0.9799, val_acc: 0.9275\n",
            "Epoch: 25, train_loss: 0.0716, val_loss: 0.2533, train_acc: 0.9809, val_acc: 0.9254\n",
            "Epoch: 26, train_loss: 0.0709, val_loss: 0.2528, train_acc: 0.9818, val_acc: 0.9257\n",
            "Epoch: 27, train_loss: 0.0686, val_loss: 0.2572, train_acc: 0.9828, val_acc: 0.9259\n",
            "Epoch: 28, train_loss: 0.0679, val_loss: 0.2549, train_acc: 0.9819, val_acc: 0.9259\n",
            "Epoch: 29, train_loss: 0.0661, val_loss: 0.2615, train_acc: 0.9835, val_acc: 0.9262\n",
            "Epoch    30: reducing learning rate of group 0 to 2.7000e-05.\n",
            "Epoch: 30, train_loss: 0.0646, val_loss: 0.2628, train_acc: 0.9838, val_acc: 0.9254\n",
            "Epoch: 31, train_loss: 0.0604, val_loss: 0.2585, train_acc: 0.9854, val_acc: 0.9247\n",
            "Epoch: 32, train_loss: 0.0597, val_loss: 0.2592, train_acc: 0.9869, val_acc: 0.9267\n",
            "Epoch: 33, train_loss: 0.0595, val_loss: 0.2593, train_acc: 0.9863, val_acc: 0.9267\n",
            "Epoch: 34, train_loss: 0.0612, val_loss: 0.2603, train_acc: 0.9852, val_acc: 0.9254\n",
            "Epoch: 35, train_loss: 0.0586, val_loss: 0.2598, train_acc: 0.9858, val_acc: 0.9270\n",
            "Epoch: 36, train_loss: 0.0582, val_loss: 0.2604, train_acc: 0.9868, val_acc: 0.9267\n",
            "Epoch: 37, train_loss: 0.0577, val_loss: 0.2622, train_acc: 0.9863, val_acc: 0.9262\n",
            "Epoch: 38, train_loss: 0.0571, val_loss: 0.2653, train_acc: 0.9874, val_acc: 0.9262\n",
            "Epoch: 39, train_loss: 0.0570, val_loss: 0.2624, train_acc: 0.9867, val_acc: 0.9257\n",
            "Epoch: 40, train_loss: 0.0566, val_loss: 0.2640, train_acc: 0.9877, val_acc: 0.9252\n",
            "Epoch    41: reducing learning rate of group 0 to 8.1000e-06.\n",
            "Epoch: 41, train_loss: 0.0560, val_loss: 0.2631, train_acc: 0.9879, val_acc: 0.9257\n",
            "Epoch: 42, train_loss: 0.0550, val_loss: 0.2635, train_acc: 0.9879, val_acc: 0.9262\n",
            "Epoch: 43, train_loss: 0.0555, val_loss: 0.2640, train_acc: 0.9876, val_acc: 0.9264\n",
            "Epoch: 44, train_loss: 0.0544, val_loss: 0.2642, train_acc: 0.9884, val_acc: 0.9257\n",
            "Epoch: 45, train_loss: 0.0543, val_loss: 0.2638, train_acc: 0.9879, val_acc: 0.9254\n",
            "Epoch: 46, train_loss: 0.0542, val_loss: 0.2642, train_acc: 0.9879, val_acc: 0.9264\n",
            "Epoch: 47, train_loss: 0.0545, val_loss: 0.2646, train_acc: 0.9885, val_acc: 0.9262\n",
            "Epoch: 48, train_loss: 0.0540, val_loss: 0.2647, train_acc: 0.9885, val_acc: 0.9262\n",
            "Epoch: 49, train_loss: 0.0538, val_loss: 0.2650, train_acc: 0.9884, val_acc: 0.9259\n",
            "Epoch: 50, train_loss: 0.0537, val_loss: 0.2649, train_acc: 0.9885, val_acc: 0.9259\n"
          ],
          "name": "stdout"
        },
        {
          "output_type": "display_data",
          "data": {
            "image/png": "[encoded data removed]",
            "text/plain": [
              "<Figure size 1440x360 with 2 Axes>"
            ]
          },
          "metadata": {
            "tags": [],
            "needs_background": "light"
          }
        }
      ]
    },
    {
      "cell_type": "markdown",
      "metadata": {
        "id": "C0F4op_puUol",
        "colab_type": "text"
      },
      "source": [
        "## 5. Эксперимент с разными температурами"
      ]
    },
    {
      "cell_type": "markdown",
      "metadata": {
        "id": "w8_QEO6tuUom",
        "colab_type": "text"
      },
      "source": [
        "## 6. Результаты и промежуточные выводы"
      ]
    }
  ]
}