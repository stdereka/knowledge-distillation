{
 "cells": [
  {
   "cell_type": "code",
   "execution_count": 2,
   "metadata": {},
   "outputs": [],
   "source": [
    "import numpy as np\n",
    "from itertools import product"
   ]
  },
  {
   "cell_type": "code",
   "execution_count": 3,
   "metadata": {},
   "outputs": [],
   "source": [
    "alphas = [0.1]\n",
    "temperatures = [1.0, 2.0, 3.0, 4.0, 5.0, 6.0, 7.0, 8.0]"
   ]
  },
  {
   "cell_type": "code",
   "execution_count": 15,
   "metadata": {},
   "outputs": [
    {
     "name": "stdout",
     "output_type": "stream",
     "text": [
      "alpha=0.1, T=1.0\n",
      "train loss: 0.0137, train acc: 0.9798, test loss: 0.0388, test acc: 0.9253\n",
      "alpha=0.1, T=2.0\n",
      "train loss: 0.0326, train acc: 0.9741, test loss: 0.0619, test acc: 0.9284\n",
      "alpha=0.1, T=3.0\n",
      "train loss: 0.0516, train acc: 0.9752, test loss: 0.0896, test acc: 0.9298\n",
      "alpha=0.1, T=4.0\n",
      "train loss: 0.0792, train acc: 0.9665, test loss: 0.1089, test acc: 0.9306\n",
      "alpha=0.1, T=5.0\n",
      "train loss: 0.0908, train acc: 0.9648, test loss: 0.1190, test acc: 0.9303\n",
      "alpha=0.1, T=6.0\n",
      "train loss: 0.0990, train acc: 0.9639, test loss: 0.1233, test acc: 0.9295\n",
      "alpha=0.1, T=7.0\n",
      "train loss: 0.0966, train acc: 0.9676, test loss: 0.1242, test acc: 0.9284\n",
      "alpha=0.1, T=8.0\n",
      "train loss: 0.0986, train acc: 0.9674, test loss: 0.1233, test acc: 0.9284\n",
      "no teacher\n",
      "train loss: 0.0546, train acc: 0.9882, test loss: 0.2645, test acc: 0.9262\n"
     ]
    }
   ],
   "source": [
    "for a, t in product(alphas, temperatures):\n",
    "    history = np.load(f\"./experiments/hyperparams/history_resnet18_T_{t}_alpha_{a}.npy\")\n",
    "    print(f\"alpha={a}, T={t}\")\n",
    "    last_10 = history[-10:]\n",
    "    print(\"train loss: {:0.4f}, train acc: {:0.4f}, test loss: {:0.4f}, test acc: {:0.4f}\".format(*last_10.mean(axis=0)))\n",
    "\n",
    "history = np.load(f\"./experiments/hyperparams/history_resnet18_no_teacher.npy\")\n",
    "print(f\"no teacher\")\n",
    "last_10 = history[-10:]\n",
    "print(\"train loss: {:0.4f}, train acc: {:0.4f}, test loss: {:0.4f}, test acc: {:0.4f}\".format(*last_10.mean(axis=0)))"
   ]
  },
  {
   "cell_type": "code",
   "execution_count": null,
   "metadata": {},
   "outputs": [],
   "source": []
  }
 ],
 "metadata": {
  "kernelspec": {
   "display_name": "Python 3",
   "language": "python",
   "name": "python3"
  },
  "language_info": {
   "codemirror_mode": {
    "name": "ipython",
    "version": 3
   },
   "file_extension": ".py",
   "mimetype": "text/x-python",
   "name": "python",
   "nbconvert_exporter": "python",
   "pygments_lexer": "ipython3",
   "version": "3.6.9"
  }
 },
 "nbformat": 4,
 "nbformat_minor": 2
}
